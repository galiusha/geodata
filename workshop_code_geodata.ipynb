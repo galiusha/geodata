{
 "cells": [
  {
   "cell_type": "code",
   "execution_count": 1,
   "id": "50a9940f",
   "metadata": {},
   "outputs": [],
   "source": [
    "# workshop on working with geodata with Python\n",
    "\n",
    "# PART 1 - What is geo data\n",
    "# PART 2 - Sources \n",
    "# PART 3 - Create geometry manually (Le Wagon office)\n",
    "# PART 4 - Get open source data - Admin boundaries from geoportal, \n",
    "# PART 5 - Get open source data - Tokyo API Bicycle parking. Distance\n",
    "# PART 6 - bus lines from geoportal. Distance\n",
    "# PART 7 - Create new geo datasets and new geometries - Unary Union\n",
    "# PART 8 - Spatial join"
   ]
  },
  {
   "cell_type": "code",
   "execution_count": 2,
   "id": "bae43888",
   "metadata": {},
   "outputs": [],
   "source": [
    "# Imports\n",
    "\n",
    "\n",
    "import geopandas as gpd\n",
    "import pandas as pd\n",
    "from shapely import wkt\n",
    "from shapely.geometry import Point, Polygon, shape, LineString\n"
   ]
  },
  {
   "cell_type": "code",
   "execution_count": 3,
   "id": "008305d2",
   "metadata": {},
   "outputs": [],
   "source": [
    "# 35.633989870745154, 139.7081260586401 - right click on google maps, coordinates are displayed "
   ]
  },
  {
   "cell_type": "code",
   "execution_count": 4,
   "id": "d2237ad7",
   "metadata": {},
   "outputs": [],
   "source": [
    "# PART 3 - Create Geodataframe from Coordinates - Google Maps - le Wagon Tokyo - 35.633989870745154, 139.7081260586401. Input in reverse - longitude first\n",
    "# First put into a dataframe, then create the geometry and convert into a geodataframe \n",
    "\n",
    "df=pd.DataFrame({\n",
    "        \"Location\": [\"Le Wagon Tokyo\"],\n",
    "        \"Latitude\": [35.633989870745154],\n",
    "        \"Longitude\": [139.7081260586401]}\n",
    "        )\n",
    "\n",
    "\n",
    "point = gpd.GeoDataFrame(df, geometry=gpd.points_from_xy(df.Longitude, df.Latitude))\n",
    "\n",
    "#coordinates=gpd.GeoSeries.from_wkt([139.7055457, 35.6339463])"
   ]
  },
  {
   "cell_type": "code",
   "execution_count": 5,
   "id": "2a6b8c97",
   "metadata": {},
   "outputs": [
    {
     "data": {
      "text/html": [
       "<div>\n",
       "<style scoped>\n",
       "    .dataframe tbody tr th:only-of-type {\n",
       "        vertical-align: middle;\n",
       "    }\n",
       "\n",
       "    .dataframe tbody tr th {\n",
       "        vertical-align: top;\n",
       "    }\n",
       "\n",
       "    .dataframe thead th {\n",
       "        text-align: right;\n",
       "    }\n",
       "</style>\n",
       "<table border=\"1\" class=\"dataframe\">\n",
       "  <thead>\n",
       "    <tr style=\"text-align: right;\">\n",
       "      <th></th>\n",
       "      <th>Location</th>\n",
       "      <th>Latitude</th>\n",
       "      <th>Longitude</th>\n",
       "      <th>geometry</th>\n",
       "    </tr>\n",
       "  </thead>\n",
       "  <tbody>\n",
       "    <tr>\n",
       "      <th>0</th>\n",
       "      <td>Le Wagon Tokyo</td>\n",
       "      <td>35.63399</td>\n",
       "      <td>139.708126</td>\n",
       "      <td>POINT (139.70813 35.63399)</td>\n",
       "    </tr>\n",
       "  </tbody>\n",
       "</table>\n",
       "</div>"
      ],
      "text/plain": [
       "         Location  Latitude   Longitude                    geometry\n",
       "0  Le Wagon Tokyo  35.63399  139.708126  POINT (139.70813 35.63399)"
      ]
     },
     "execution_count": 5,
     "metadata": {},
     "output_type": "execute_result"
    }
   ],
   "source": [
    "# explore the GeoDataFrame\n",
    "point"
   ]
  },
  {
   "cell_type": "code",
   "execution_count": 6,
   "id": "c23f6975",
   "metadata": {},
   "outputs": [
    {
     "data": {
      "text/plain": [
       "0    POINT (139.70813 35.63399)\n",
       "Name: geometry, dtype: geometry"
      ]
     },
     "execution_count": 6,
     "metadata": {},
     "output_type": "execute_result"
    }
   ],
   "source": [
    "# display the geometry\n",
    "point.geometry"
   ]
  },
  {
   "cell_type": "code",
   "execution_count": 7,
   "id": "d950ca02",
   "metadata": {},
   "outputs": [
    {
     "data": {
      "text/plain": [
       "<AxesSubplot:>"
      ]
     },
     "execution_count": 7,
     "metadata": {},
     "output_type": "execute_result"
    },
    {
     "data": {
      "image/png": "[encoded data removed]",
      "text/plain": [
       "<Figure size 432x288 with 1 Axes>"
      ]
     },
     "metadata": {
      "needs_background": "light"
     },
     "output_type": "display_data"
    }
   ],
   "source": [
    "# Visualize  A\n",
    "# A .plot() method - vizualises the geometry \n",
    "point.plot()"
   ]
  },
  {
   "cell_type": "code",
   "execution_count": 8,
   "id": "1f09e426",
   "metadata": {},
   "outputs": [
    {
     "data": {
      "image/png": "[encoded data removed]",
      "text/plain": [
       "<Figure size 432x288 with 1 Axes>"
      ]
     },
     "metadata": {
      "needs_background": "light"
     },
     "output_type": "display_data"
    }
   ],
   "source": [
    "# visualize B \n",
    "# B with matplotlib- mind the order of the axis\n",
    "\n",
    "import matplotlib.pyplot as plt\n",
    "\n",
    "fig, ax = plt.subplots()\n",
    "ax.plot(point['Longitude'], point['Latitude'], 'o', markersize=1)\n",
    "\n",
    "plt.show()"
   ]
  },
  {
   "cell_type": "code",
   "execution_count": 9,
   "id": "3c4f13fd",
   "metadata": {},
   "outputs": [],
   "source": [
    "# visualize C - create a geojson and display in geojson.io or kepler.gl\n",
    "point.to_file('workshop_data/test_point.geojson', driver='GeoJSON')"
   ]
  },
  {
   "cell_type": "code",
   "execution_count": 10,
   "id": "c03b79ac",
   "metadata": {},
   "outputs": [],
   "source": [
    "# PART 4 - Make your own basemap \n",
    "#- download Tokyo admin boundaries from https://nlftp.mlit.go.jp/ksj/gml/datalist/KsjTmplt-N03-v3_1.html\n",
    "# the zip file contains .shp .xml format. shp format looks for the other files, otherwise will not work. geojson is the best (although big)\n",
    "\n",
    "\n",
    "file='workshop_data/N03-23_13_230101.geojson'\n",
    "\n",
    "\n",
    "admin = gpd.read_file(file, encoding='shift_jis')"
   ]
  },
  {
   "cell_type": "code",
   "execution_count": 11,
   "id": "09a6cfc5",
   "metadata": {},
   "outputs": [
    {
     "data": {
      "text/html": [
       "<div>\n",
       "<style scoped>\n",
       "    .dataframe tbody tr th:only-of-type {\n",
       "        vertical-align: middle;\n",
       "    }\n",
       "\n",
       "    .dataframe tbody tr th {\n",
       "        vertical-align: top;\n",
       "    }\n",
       "\n",
       "    .dataframe thead th {\n",
       "        text-align: right;\n",
       "    }\n",
       "</style>\n",
       "<table border=\"1\" class=\"dataframe\">\n",
       "  <thead>\n",
       "    <tr style=\"text-align: right;\">\n",
       "      <th></th>\n",
       "      <th>N03_001</th>\n",
       "      <th>N03_002</th>\n",
       "      <th>N03_003</th>\n",
       "      <th>N03_004</th>\n",
       "      <th>N03_007</th>\n",
       "      <th>geometry</th>\n",
       "    </tr>\n",
       "  </thead>\n",
       "  <tbody>\n",
       "    <tr>\n",
       "      <th>0</th>\n",
       "      <td>東京都</td>\n",
       "      <td>None</td>\n",
       "      <td>None</td>\n",
       "      <td>千代田区</td>\n",
       "      <td>13101</td>\n",
       "      <td>POLYGON ((139.77287 35.70370, 139.77279 35.703...</td>\n",
       "    </tr>\n",
       "    <tr>\n",
       "      <th>1</th>\n",
       "      <td>東京都</td>\n",
       "      <td>None</td>\n",
       "      <td>None</td>\n",
       "      <td>中央区</td>\n",
       "      <td>13102</td>\n",
       "      <td>POLYGON ((139.78341 35.69645, 139.78459 35.696...</td>\n",
       "    </tr>\n",
       "    <tr>\n",
       "      <th>2</th>\n",
       "      <td>東京都</td>\n",
       "      <td>None</td>\n",
       "      <td>None</td>\n",
       "      <td>港区</td>\n",
       "      <td>13103</td>\n",
       "      <td>POLYGON ((139.77129 35.62841, 139.77128 35.628...</td>\n",
       "    </tr>\n",
       "    <tr>\n",
       "      <th>3</th>\n",
       "      <td>東京都</td>\n",
       "      <td>None</td>\n",
       "      <td>None</td>\n",
       "      <td>港区</td>\n",
       "      <td>13103</td>\n",
       "      <td>POLYGON ((139.76689 35.62774, 139.76718 35.627...</td>\n",
       "    </tr>\n",
       "    <tr>\n",
       "      <th>4</th>\n",
       "      <td>東京都</td>\n",
       "      <td>None</td>\n",
       "      <td>None</td>\n",
       "      <td>港区</td>\n",
       "      <td>13103</td>\n",
       "      <td>POLYGON ((139.77022 35.63199, 139.77046 35.631...</td>\n",
       "    </tr>\n",
       "  </tbody>\n",
       "</table>\n",
       "</div>"
      ],
      "text/plain": [
       "  N03_001 N03_002 N03_003 N03_004 N03_007  \\\n",
       "0     東京都    None    None    千代田区   13101   \n",
       "1     東京都    None    None     中央区   13102   \n",
       "2     東京都    None    None      港区   13103   \n",
       "3     東京都    None    None      港区   13103   \n",
       "4     東京都    None    None      港区   13103   \n",
       "\n",
       "                                            geometry  \n",
       "0  POLYGON ((139.77287 35.70370, 139.77279 35.703...  \n",
       "1  POLYGON ((139.78341 35.69645, 139.78459 35.696...  \n",
       "2  POLYGON ((139.77129 35.62841, 139.77128 35.628...  \n",
       "3  POLYGON ((139.76689 35.62774, 139.76718 35.627...  \n",
       "4  POLYGON ((139.77022 35.63199, 139.77046 35.631...  "
      ]
     },
     "execution_count": 11,
     "metadata": {},
     "output_type": "execute_result"
    }
   ],
   "source": [
    "# inspect\n",
    "admin.head()"
   ]
  },
  {
   "cell_type": "code",
   "execution_count": 12,
   "id": "5633f23a",
   "metadata": {},
   "outputs": [
    {
     "data": {
      "text/plain": [
       "geopandas.geodataframe.GeoDataFrame"
      ]
     },
     "execution_count": 12,
     "metadata": {},
     "output_type": "execute_result"
    }
   ],
   "source": [
    "# check type\n",
    "type(admin)"
   ]
  },
  {
   "cell_type": "code",
   "execution_count": 13,
   "id": "428dbdf2",
   "metadata": {},
   "outputs": [
    {
     "data": {
      "text/plain": [
       "<AxesSubplot:>"
      ]
     },
     "execution_count": 13,
     "metadata": {},
     "output_type": "execute_result"
    },
    {
     "data": {
      "image/png": "[encoded data removed]",
      "text/plain": [
       "<Figure size 432x288 with 1 Axes>"
      ]
     },
     "metadata": {
      "needs_background": "light"
     },
     "output_type": "display_data"
    }
   ],
   "source": [
    "# visualize \n",
    "admin.plot()"
   ]
  },
  {
   "cell_type": "code",
   "execution_count": 14,
   "id": "83024f81",
   "metadata": {},
   "outputs": [
    {
     "data": {
      "text/html": [
       "<div>\n",
       "<style scoped>\n",
       "    .dataframe tbody tr th:only-of-type {\n",
       "        vertical-align: middle;\n",
       "    }\n",
       "\n",
       "    .dataframe tbody tr th {\n",
       "        vertical-align: top;\n",
       "    }\n",
       "\n",
       "    .dataframe thead th {\n",
       "        text-align: right;\n",
       "    }\n",
       "</style>\n",
       "<table border=\"1\" class=\"dataframe\">\n",
       "  <thead>\n",
       "    <tr style=\"text-align: right;\">\n",
       "      <th></th>\n",
       "      <th>N03_001</th>\n",
       "      <th>N03_002</th>\n",
       "      <th>N03_003</th>\n",
       "      <th>N03_004</th>\n",
       "      <th>N03_007</th>\n",
       "      <th>geometry</th>\n",
       "    </tr>\n",
       "  </thead>\n",
       "  <tbody>\n",
       "    <tr>\n",
       "      <th>6172</th>\n",
       "      <td>東京都</td>\n",
       "      <td>None</td>\n",
       "      <td>None</td>\n",
       "      <td>鳥島</td>\n",
       "      <td>13801</td>\n",
       "      <td>POLYGON ((140.30955 30.49316, 140.30955 30.493...</td>\n",
       "    </tr>\n",
       "    <tr>\n",
       "      <th>6173</th>\n",
       "      <td>東京都</td>\n",
       "      <td>None</td>\n",
       "      <td>None</td>\n",
       "      <td>鳥島</td>\n",
       "      <td>13801</td>\n",
       "      <td>POLYGON ((140.30987 30.49315, 140.30983 30.493...</td>\n",
       "    </tr>\n",
       "    <tr>\n",
       "      <th>6174</th>\n",
       "      <td>東京都</td>\n",
       "      <td>None</td>\n",
       "      <td>None</td>\n",
       "      <td>鳥島</td>\n",
       "      <td>13801</td>\n",
       "      <td>POLYGON ((140.30396 30.49576, 140.30399 30.495...</td>\n",
       "    </tr>\n",
       "    <tr>\n",
       "      <th>6175</th>\n",
       "      <td>東京都</td>\n",
       "      <td>None</td>\n",
       "      <td>None</td>\n",
       "      <td>ベヨネース列岩</td>\n",
       "      <td>13802</td>\n",
       "      <td>POLYGON ((139.91711 31.88681, 139.91709 31.886...</td>\n",
       "    </tr>\n",
       "    <tr>\n",
       "      <th>6176</th>\n",
       "      <td>東京都</td>\n",
       "      <td>None</td>\n",
       "      <td>None</td>\n",
       "      <td>ベヨネース列岩</td>\n",
       "      <td>13802</td>\n",
       "      <td>POLYGON ((139.91720 31.88698, 139.91722 31.886...</td>\n",
       "    </tr>\n",
       "  </tbody>\n",
       "</table>\n",
       "</div>"
      ],
      "text/plain": [
       "     N03_001 N03_002 N03_003  N03_004 N03_007  \\\n",
       "6172     東京都    None    None       鳥島   13801   \n",
       "6173     東京都    None    None       鳥島   13801   \n",
       "6174     東京都    None    None       鳥島   13801   \n",
       "6175     東京都    None    None  ベヨネース列岩   13802   \n",
       "6176     東京都    None    None  ベヨネース列岩   13802   \n",
       "\n",
       "                                               geometry  \n",
       "6172  POLYGON ((140.30955 30.49316, 140.30955 30.493...  \n",
       "6173  POLYGON ((140.30987 30.49315, 140.30983 30.493...  \n",
       "6174  POLYGON ((140.30396 30.49576, 140.30399 30.495...  \n",
       "6175  POLYGON ((139.91711 31.88681, 139.91709 31.886...  \n",
       "6176  POLYGON ((139.91720 31.88698, 139.91722 31.886...  "
      ]
     },
     "execution_count": 14,
     "metadata": {},
     "output_type": "execute_result"
    }
   ],
   "source": [
    "# looks strange. why can that be - inspect\n",
    "admin.tail()"
   ]
  },
  {
   "cell_type": "code",
   "execution_count": 15,
   "id": "9edc273f",
   "metadata": {},
   "outputs": [],
   "source": [
    "# In contains the Tokyo islands too. We want to isolate the 23 Tokyo Metropolitan Wards.\n",
    "# like in pandas, we can select rows and columns. N03_007 is the National Local Government Code. Select those that begin with 131**\n",
    "\n",
    "tokyo_23=admin[admin['N03_007'].str.contains('131')].reset_index()"
   ]
  },
  {
   "cell_type": "code",
   "execution_count": 16,
   "id": "728eb687",
   "metadata": {},
   "outputs": [
    {
     "data": {
      "text/html": [
       "<div>\n",
       "<style scoped>\n",
       "    .dataframe tbody tr th:only-of-type {\n",
       "        vertical-align: middle;\n",
       "    }\n",
       "\n",
       "    .dataframe tbody tr th {\n",
       "        vertical-align: top;\n",
       "    }\n",
       "\n",
       "    .dataframe thead th {\n",
       "        text-align: right;\n",
       "    }\n",
       "</style>\n",
       "<table border=\"1\" class=\"dataframe\">\n",
       "  <thead>\n",
       "    <tr style=\"text-align: right;\">\n",
       "      <th></th>\n",
       "      <th>index</th>\n",
       "      <th>N03_001</th>\n",
       "      <th>N03_002</th>\n",
       "      <th>N03_003</th>\n",
       "      <th>N03_004</th>\n",
       "      <th>N03_007</th>\n",
       "      <th>geometry</th>\n",
       "    </tr>\n",
       "  </thead>\n",
       "  <tbody>\n",
       "    <tr>\n",
       "      <th>0</th>\n",
       "      <td>0</td>\n",
       "      <td>東京都</td>\n",
       "      <td>None</td>\n",
       "      <td>None</td>\n",
       "      <td>千代田区</td>\n",
       "      <td>13101</td>\n",
       "      <td>POLYGON ((139.77287 35.70370, 139.77279 35.703...</td>\n",
       "    </tr>\n",
       "    <tr>\n",
       "      <th>1</th>\n",
       "      <td>1</td>\n",
       "      <td>東京都</td>\n",
       "      <td>None</td>\n",
       "      <td>None</td>\n",
       "      <td>中央区</td>\n",
       "      <td>13102</td>\n",
       "      <td>POLYGON ((139.78341 35.69645, 139.78459 35.696...</td>\n",
       "    </tr>\n",
       "    <tr>\n",
       "      <th>2</th>\n",
       "      <td>2</td>\n",
       "      <td>東京都</td>\n",
       "      <td>None</td>\n",
       "      <td>None</td>\n",
       "      <td>港区</td>\n",
       "      <td>13103</td>\n",
       "      <td>POLYGON ((139.77129 35.62841, 139.77128 35.628...</td>\n",
       "    </tr>\n",
       "    <tr>\n",
       "      <th>3</th>\n",
       "      <td>3</td>\n",
       "      <td>東京都</td>\n",
       "      <td>None</td>\n",
       "      <td>None</td>\n",
       "      <td>港区</td>\n",
       "      <td>13103</td>\n",
       "      <td>POLYGON ((139.76689 35.62774, 139.76718 35.627...</td>\n",
       "    </tr>\n",
       "    <tr>\n",
       "      <th>4</th>\n",
       "      <td>4</td>\n",
       "      <td>東京都</td>\n",
       "      <td>None</td>\n",
       "      <td>None</td>\n",
       "      <td>港区</td>\n",
       "      <td>13103</td>\n",
       "      <td>POLYGON ((139.77022 35.63199, 139.77046 35.631...</td>\n",
       "    </tr>\n",
       "    <tr>\n",
       "      <th>...</th>\n",
       "      <td>...</td>\n",
       "      <td>...</td>\n",
       "      <td>...</td>\n",
       "      <td>...</td>\n",
       "      <td>...</td>\n",
       "      <td>...</td>\n",
       "      <td>...</td>\n",
       "    </tr>\n",
       "    <tr>\n",
       "      <th>113</th>\n",
       "      <td>113</td>\n",
       "      <td>東京都</td>\n",
       "      <td>None</td>\n",
       "      <td>None</td>\n",
       "      <td>葛飾区</td>\n",
       "      <td>13122</td>\n",
       "      <td>POLYGON ((139.87626 35.79479, 139.87661 35.793...</td>\n",
       "    </tr>\n",
       "    <tr>\n",
       "      <th>114</th>\n",
       "      <td>114</td>\n",
       "      <td>東京都</td>\n",
       "      <td>None</td>\n",
       "      <td>None</td>\n",
       "      <td>江戸川区</td>\n",
       "      <td>13123</td>\n",
       "      <td>POLYGON ((139.86285 35.63532, 139.86299 35.635...</td>\n",
       "    </tr>\n",
       "    <tr>\n",
       "      <th>115</th>\n",
       "      <td>115</td>\n",
       "      <td>東京都</td>\n",
       "      <td>None</td>\n",
       "      <td>None</td>\n",
       "      <td>江戸川区</td>\n",
       "      <td>13123</td>\n",
       "      <td>POLYGON ((139.86380 35.63722, 139.86391 35.637...</td>\n",
       "    </tr>\n",
       "    <tr>\n",
       "      <th>116</th>\n",
       "      <td>116</td>\n",
       "      <td>東京都</td>\n",
       "      <td>None</td>\n",
       "      <td>None</td>\n",
       "      <td>江戸川区</td>\n",
       "      <td>13123</td>\n",
       "      <td>POLYGON ((139.85560 35.63856, 139.85563 35.638...</td>\n",
       "    </tr>\n",
       "    <tr>\n",
       "      <th>117</th>\n",
       "      <td>117</td>\n",
       "      <td>東京都</td>\n",
       "      <td>None</td>\n",
       "      <td>None</td>\n",
       "      <td>江戸川区</td>\n",
       "      <td>13123</td>\n",
       "      <td>POLYGON ((139.89018 35.75055, 139.89044 35.750...</td>\n",
       "    </tr>\n",
       "  </tbody>\n",
       "</table>\n",
       "<p>118 rows × 7 columns</p>\n",
       "</div>"
      ],
      "text/plain": [
       "     index N03_001 N03_002 N03_003 N03_004 N03_007  \\\n",
       "0        0     東京都    None    None    千代田区   13101   \n",
       "1        1     東京都    None    None     中央区   13102   \n",
       "2        2     東京都    None    None      港区   13103   \n",
       "3        3     東京都    None    None      港区   13103   \n",
       "4        4     東京都    None    None      港区   13103   \n",
       "..     ...     ...     ...     ...     ...     ...   \n",
       "113    113     東京都    None    None     葛飾区   13122   \n",
       "114    114     東京都    None    None    江戸川区   13123   \n",
       "115    115     東京都    None    None    江戸川区   13123   \n",
       "116    116     東京都    None    None    江戸川区   13123   \n",
       "117    117     東京都    None    None    江戸川区   13123   \n",
       "\n",
       "                                              geometry  \n",
       "0    POLYGON ((139.77287 35.70370, 139.77279 35.703...  \n",
       "1    POLYGON ((139.78341 35.69645, 139.78459 35.696...  \n",
       "2    POLYGON ((139.77129 35.62841, 139.77128 35.628...  \n",
       "3    POLYGON ((139.76689 35.62774, 139.76718 35.627...  \n",
       "4    POLYGON ((139.77022 35.63199, 139.77046 35.631...  \n",
       "..                                                 ...  \n",
       "113  POLYGON ((139.87626 35.79479, 139.87661 35.793...  \n",
       "114  POLYGON ((139.86285 35.63532, 139.86299 35.635...  \n",
       "115  POLYGON ((139.86380 35.63722, 139.86391 35.637...  \n",
       "116  POLYGON ((139.85560 35.63856, 139.85563 35.638...  \n",
       "117  POLYGON ((139.89018 35.75055, 139.89044 35.750...  \n",
       "\n",
       "[118 rows x 7 columns]"
      ]
     },
     "execution_count": 16,
     "metadata": {},
     "output_type": "execute_result"
    }
   ],
   "source": [
    "tokyo_23"
   ]
  },
  {
   "cell_type": "code",
   "execution_count": 17,
   "id": "48a02d9c",
   "metadata": {},
   "outputs": [
    {
     "data": {
      "text/plain": [
       "<AxesSubplot:>"
      ]
     },
     "execution_count": 17,
     "metadata": {},
     "output_type": "execute_result"
    },
    {
     "data": {
      "image/png": "[encoded data removed]",
      "text/plain": [
       "<Figure size 432x288 with 1 Axes>"
      ]
     },
     "metadata": {
      "needs_background": "light"
     },
     "output_type": "display_data"
    }
   ],
   "source": [
    "# check visualization\n",
    "tokyo_23.plot()"
   ]
  },
  {
   "cell_type": "code",
   "execution_count": 18,
   "id": "3c630107",
   "metadata": {},
   "outputs": [
    {
     "data": {
      "image/png": "[encoded data removed]",
      "text/plain": [
       "<Figure size 432x288 with 1 Axes>"
      ]
     },
     "metadata": {
      "needs_background": "light"
     },
     "output_type": "display_data"
    }
   ],
   "source": [
    "# Now we can plot out point and the map together\n",
    "# Plot first dataset\n",
    "ax = tokyo_23.plot(color='blue', edgecolor='black')\n",
    "\n",
    "# Plot second dataset on the same axes\n",
    "point.plot(ax=ax, color='red', edgecolor='black')\n",
    "\n",
    "plt.show()"
   ]
  },
  {
   "cell_type": "code",
   "execution_count": 19,
   "id": "e71c0317",
   "metadata": {},
   "outputs": [],
   "source": [
    "# Now - in which ward it is? We can use operations that show relationshop between the geometries.\n",
    "# First we need to get the point of out the dataframe - we need the geometry only\n",
    "lw_point=point.geometry[0]"
   ]
  },
  {
   "cell_type": "code",
   "execution_count": 20,
   "id": "3927ef69",
   "metadata": {},
   "outputs": [
    {
     "data": {
      "text/plain": [
       "shapely.geometry.point.Point"
      ]
     },
     "execution_count": 20,
     "metadata": {},
     "output_type": "execute_result"
    }
   ],
   "source": [
    "# check type\n",
    "type(lw_point)"
   ]
  },
  {
   "cell_type": "code",
   "execution_count": 21,
   "id": "7eb76df8",
   "metadata": {},
   "outputs": [],
   "source": [
    "# we use the contain operator to show relationship\n",
    "lw_area = tokyo_23[tokyo_23.geometry.contains(lw_point)]"
   ]
  },
  {
   "cell_type": "code",
   "execution_count": 22,
   "id": "cc55de83",
   "metadata": {},
   "outputs": [
    {
     "name": "stdout",
     "output_type": "stream",
     "text": [
      "    index N03_001 N03_002 N03_003 N03_004 N03_007  \\\n",
      "96     96     東京都    None    None     目黒区   13110   \n",
      "\n",
      "                                             geometry  \n",
      "96  POLYGON ((139.68053 35.60445, 139.68045 35.604...  \n"
     ]
    }
   ],
   "source": [
    "# this is the polygon where out point is. It shows the ward name\n",
    "print(lw_area)"
   ]
  },
  {
   "cell_type": "code",
   "execution_count": 23,
   "id": "fdeca9b1",
   "metadata": {},
   "outputs": [],
   "source": [
    "# PART 5 - Calculate the distance from nearest bicycle parking \n",
    "\n",
    "with open('workshop_data/churinjou.csv', 'r', encoding='shift_jis', errors='ignore') as f:\n",
    "    b_park = pd.read_csv(f)"
   ]
  },
  {
   "cell_type": "code",
   "execution_count": 24,
   "id": "a86a3f3e",
   "metadata": {},
   "outputs": [
    {
     "data": {
      "text/plain": [
       "Index(['拠点ID', '区市町村', '名称', '所在地', '緯度１', '経度１', '緯度２', '経度２', '緯度３', '経度３',\n",
       "       '緯度４', '経度４', '緯度５', '経度５', '緯度６', '経度６', '連絡先', '連絡先詳細', '入出庫可能時間',\n",
       "       '休業日', '収容台数', '一時利用/定期利用の別', '一時利用部分の有料/無料の別', '定期利用部分の有料/無料の別',\n",
       "       'ジャンル１', 'ジャンル２', '備考', '情報提供元'],\n",
       "      dtype='object')"
      ]
     },
     "execution_count": 24,
     "metadata": {},
     "output_type": "execute_result"
    }
   ],
   "source": [
    "b_park.columns"
   ]
  },
  {
   "cell_type": "code",
   "execution_count": 25,
   "id": "9a393fd6",
   "metadata": {},
   "outputs": [],
   "source": [
    "# put together a field to be used as geometry\n",
    "\n",
    "b_park['coordinates'] = b_park.apply(lambda row: f'POINT({row[\"経度１\"]} {row[\"緯度１\"]})', axis=1)"
   ]
  },
  {
   "cell_type": "code",
   "execution_count": 26,
   "id": "4a6ada2c",
   "metadata": {},
   "outputs": [],
   "source": [
    "# construct the Geoseries and geometry from WKT (from text) field\n",
    "b_park['geometry']=gpd.GeoSeries.from_wkt(b_park['coordinates'])"
   ]
  },
  {
   "cell_type": "code",
   "execution_count": 27,
   "id": "a820a39e",
   "metadata": {},
   "outputs": [
    {
     "data": {
      "text/html": [
       "<div>\n",
       "<style scoped>\n",
       "    .dataframe tbody tr th:only-of-type {\n",
       "        vertical-align: middle;\n",
       "    }\n",
       "\n",
       "    .dataframe tbody tr th {\n",
       "        vertical-align: top;\n",
       "    }\n",
       "\n",
       "    .dataframe thead th {\n",
       "        text-align: right;\n",
       "    }\n",
       "</style>\n",
       "<table border=\"1\" class=\"dataframe\">\n",
       "  <thead>\n",
       "    <tr style=\"text-align: right;\">\n",
       "      <th></th>\n",
       "      <th>拠点ID</th>\n",
       "      <th>区市町村</th>\n",
       "      <th>名称</th>\n",
       "      <th>所在地</th>\n",
       "      <th>緯度１</th>\n",
       "      <th>経度１</th>\n",
       "      <th>緯度２</th>\n",
       "      <th>経度２</th>\n",
       "      <th>緯度３</th>\n",
       "      <th>経度３</th>\n",
       "      <th>...</th>\n",
       "      <th>収容台数</th>\n",
       "      <th>一時利用/定期利用の別</th>\n",
       "      <th>一時利用部分の有料/無料の別</th>\n",
       "      <th>定期利用部分の有料/無料の別</th>\n",
       "      <th>ジャンル１</th>\n",
       "      <th>ジャンル２</th>\n",
       "      <th>備考</th>\n",
       "      <th>情報提供元</th>\n",
       "      <th>coordinates</th>\n",
       "      <th>geometry</th>\n",
       "    </tr>\n",
       "  </thead>\n",
       "  <tbody>\n",
       "    <tr>\n",
       "      <th>0</th>\n",
       "      <td>1001.0</td>\n",
       "      <td>千代田区</td>\n",
       "      <td>秋葉原駅東口第１自転車駐車場</td>\n",
       "      <td>東京都千代田区神田平河町4先</td>\n",
       "      <td>35.697952</td>\n",
       "      <td>139.775410</td>\n",
       "      <td>NaN</td>\n",
       "      <td>NaN</td>\n",
       "      <td>NaN</td>\n",
       "      <td>NaN</td>\n",
       "      <td>...</td>\n",
       "      <td>183台</td>\n",
       "      <td>定期利用のみ</td>\n",
       "      <td>NaN</td>\n",
       "      <td>有料</td>\n",
       "      <td>駐輪場</td>\n",
       "      <td>自転車駐車場</td>\n",
       "      <td>提供する駐輪場の情報が正確なものとなるように努めておりますが、利用者がこの駐輪場の情報を用い...</td>\n",
       "      <td>東京都・千代田区</td>\n",
       "      <td>POINT(139.77541 35.697952)</td>\n",
       "      <td>POINT (139.77541 35.69795)</td>\n",
       "    </tr>\n",
       "    <tr>\n",
       "      <th>1</th>\n",
       "      <td>1002.0</td>\n",
       "      <td>千代田区</td>\n",
       "      <td>飯田橋駅東口第１自転車駐車場</td>\n",
       "      <td>東京都千代田区飯田橋3-12先</td>\n",
       "      <td>35.702128</td>\n",
       "      <td>139.745445</td>\n",
       "      <td>NaN</td>\n",
       "      <td>NaN</td>\n",
       "      <td>NaN</td>\n",
       "      <td>NaN</td>\n",
       "      <td>...</td>\n",
       "      <td>80台</td>\n",
       "      <td>定期利用のみ</td>\n",
       "      <td>NaN</td>\n",
       "      <td>有料</td>\n",
       "      <td>駐輪場</td>\n",
       "      <td>自転車駐車場</td>\n",
       "      <td>提供する駐輪場の情報が正確なものとなるように努めておりますが、利用者がこの駐輪場の情報を用い...</td>\n",
       "      <td>東京都・千代田区</td>\n",
       "      <td>POINT(139.745445 35.702128)</td>\n",
       "      <td>POINT (139.74544 35.70213)</td>\n",
       "    </tr>\n",
       "    <tr>\n",
       "      <th>2</th>\n",
       "      <td>1003.0</td>\n",
       "      <td>千代田区</td>\n",
       "      <td>飯田橋駅東口第２自転車駐車場</td>\n",
       "      <td>東京都千代田区飯田橋3-11-30先</td>\n",
       "      <td>35.702592</td>\n",
       "      <td>139.745882</td>\n",
       "      <td>NaN</td>\n",
       "      <td>NaN</td>\n",
       "      <td>NaN</td>\n",
       "      <td>NaN</td>\n",
       "      <td>...</td>\n",
       "      <td>100台</td>\n",
       "      <td>定期利用のみ</td>\n",
       "      <td>NaN</td>\n",
       "      <td>有料</td>\n",
       "      <td>駐輪場</td>\n",
       "      <td>自転車駐車場</td>\n",
       "      <td>提供する駐輪場の情報が正確なものとなるように努めておりますが、利用者がこの駐輪場の情報を用い...</td>\n",
       "      <td>東京都・千代田区</td>\n",
       "      <td>POINT(139.745882 35.702592)</td>\n",
       "      <td>POINT (139.74588 35.70259)</td>\n",
       "    </tr>\n",
       "    <tr>\n",
       "      <th>3</th>\n",
       "      <td>1004.0</td>\n",
       "      <td>千代田区</td>\n",
       "      <td>秋葉原駅東口第２自転車駐車場</td>\n",
       "      <td>東京都千代田区神田和泉町1先</td>\n",
       "      <td>35.699331</td>\n",
       "      <td>139.775510</td>\n",
       "      <td>NaN</td>\n",
       "      <td>NaN</td>\n",
       "      <td>NaN</td>\n",
       "      <td>NaN</td>\n",
       "      <td>...</td>\n",
       "      <td>130台</td>\n",
       "      <td>定期利用のみ</td>\n",
       "      <td>NaN</td>\n",
       "      <td>有料</td>\n",
       "      <td>駐輪場</td>\n",
       "      <td>自転車駐車場</td>\n",
       "      <td>提供する駐輪場の情報が正確なものとなるように努めておりますが、利用者がこの駐輪場の情報を用い...</td>\n",
       "      <td>東京都・千代田区</td>\n",
       "      <td>POINT(139.77551 35.699331)</td>\n",
       "      <td>POINT (139.77551 35.69933)</td>\n",
       "    </tr>\n",
       "    <tr>\n",
       "      <th>4</th>\n",
       "      <td>1005.0</td>\n",
       "      <td>千代田区</td>\n",
       "      <td>水道橋駅自転車駐車場</td>\n",
       "      <td>東京都千代田区神田三崎町2-20先</td>\n",
       "      <td>35.702008</td>\n",
       "      <td>139.754028</td>\n",
       "      <td>NaN</td>\n",
       "      <td>NaN</td>\n",
       "      <td>NaN</td>\n",
       "      <td>NaN</td>\n",
       "      <td>...</td>\n",
       "      <td>65台</td>\n",
       "      <td>定期利用のみ</td>\n",
       "      <td>NaN</td>\n",
       "      <td>有料</td>\n",
       "      <td>駐輪場</td>\n",
       "      <td>自転車駐車場</td>\n",
       "      <td>提供する駐輪場の情報が正確なものとなるように努めておりますが、利用者がこの駐輪場の情報を用い...</td>\n",
       "      <td>東京都・千代田区</td>\n",
       "      <td>POINT(139.754028 35.702008)</td>\n",
       "      <td>POINT (139.75403 35.70201)</td>\n",
       "    </tr>\n",
       "    <tr>\n",
       "      <th>...</th>\n",
       "      <td>...</td>\n",
       "      <td>...</td>\n",
       "      <td>...</td>\n",
       "      <td>...</td>\n",
       "      <td>...</td>\n",
       "      <td>...</td>\n",
       "      <td>...</td>\n",
       "      <td>...</td>\n",
       "      <td>...</td>\n",
       "      <td>...</td>\n",
       "      <td>...</td>\n",
       "      <td>...</td>\n",
       "      <td>...</td>\n",
       "      <td>...</td>\n",
       "      <td>...</td>\n",
       "      <td>...</td>\n",
       "      <td>...</td>\n",
       "      <td>...</td>\n",
       "      <td>...</td>\n",
       "      <td>...</td>\n",
       "      <td>...</td>\n",
       "    </tr>\n",
       "    <tr>\n",
       "      <th>1607</th>\n",
       "      <td>50001.0</td>\n",
       "      <td>瑞穂町</td>\n",
       "      <td>箱根ケ崎駅自転車等駐車場</td>\n",
       "      <td>東京都西多摩郡瑞穂町大字箱根ケ崎249-7</td>\n",
       "      <td>35.771390</td>\n",
       "      <td>139.347060</td>\n",
       "      <td>35.77154</td>\n",
       "      <td>139.34652</td>\n",
       "      <td>NaN</td>\n",
       "      <td>NaN</td>\n",
       "      <td>...</td>\n",
       "      <td>1370台</td>\n",
       "      <td>一時利用と定期利用の併設</td>\n",
       "      <td>有料</td>\n",
       "      <td>有料</td>\n",
       "      <td>駐輪場</td>\n",
       "      <td>自転車駐車場</td>\n",
       "      <td>提供する駐輪場の情報が正確なものとなるように努めておりますが、利用者がこの駐輪場の情報を用い...</td>\n",
       "      <td>東京都・瑞穂町</td>\n",
       "      <td>POINT(139.34706 35.77139)</td>\n",
       "      <td>POINT (139.34706 35.77139)</td>\n",
       "    </tr>\n",
       "    <tr>\n",
       "      <th>1608</th>\n",
       "      <td>57008.0</td>\n",
       "      <td>奥多摩町</td>\n",
       "      <td>奥多摩駅踏切横駐車場</td>\n",
       "      <td>東京都西多摩郡奥多摩町氷川166先</td>\n",
       "      <td>35.808771</td>\n",
       "      <td>139.097826</td>\n",
       "      <td>NaN</td>\n",
       "      <td>NaN</td>\n",
       "      <td>NaN</td>\n",
       "      <td>NaN</td>\n",
       "      <td>...</td>\n",
       "      <td>30台</td>\n",
       "      <td>一時利用のみ</td>\n",
       "      <td>無料</td>\n",
       "      <td>NaN</td>\n",
       "      <td>駐輪場</td>\n",
       "      <td>自転車駐車場</td>\n",
       "      <td>提供する駐輪場の情報が正確なものとなるように努めておりますが、利用者がこの駐輪場の情報を用い...</td>\n",
       "      <td>東京都・奥多摩町</td>\n",
       "      <td>POINT(139.097826 35.8087705)</td>\n",
       "      <td>POINT (139.09783 35.80877)</td>\n",
       "    </tr>\n",
       "    <tr>\n",
       "      <th>1609</th>\n",
       "      <td>57009.0</td>\n",
       "      <td>奥多摩町</td>\n",
       "      <td>古里駅前駐車場</td>\n",
       "      <td>東京都西多摩郡奥多摩町小丹波501</td>\n",
       "      <td>35.816209</td>\n",
       "      <td>139.152115</td>\n",
       "      <td>NaN</td>\n",
       "      <td>NaN</td>\n",
       "      <td>NaN</td>\n",
       "      <td>NaN</td>\n",
       "      <td>...</td>\n",
       "      <td>30台</td>\n",
       "      <td>一時利用のみ</td>\n",
       "      <td>無料</td>\n",
       "      <td>NaN</td>\n",
       "      <td>駐輪場</td>\n",
       "      <td>自転車駐車場</td>\n",
       "      <td>提供する駐輪場の情報が正確なものとなるように努めておりますが、利用者がこの駐輪場の情報を用い...</td>\n",
       "      <td>東京都・奥多摩町</td>\n",
       "      <td>POINT(139.152115 35.8162094)</td>\n",
       "      <td>POINT (139.15212 35.81621)</td>\n",
       "    </tr>\n",
       "    <tr>\n",
       "      <th>1610</th>\n",
       "      <td>57010.0</td>\n",
       "      <td>奥多摩町</td>\n",
       "      <td>川井駅前駐車場</td>\n",
       "      <td>東京都西多摩郡奥多摩町川井278先</td>\n",
       "      <td>35.813949</td>\n",
       "      <td>139.163822</td>\n",
       "      <td>NaN</td>\n",
       "      <td>NaN</td>\n",
       "      <td>NaN</td>\n",
       "      <td>NaN</td>\n",
       "      <td>...</td>\n",
       "      <td>44台</td>\n",
       "      <td>一時利用のみ</td>\n",
       "      <td>無料</td>\n",
       "      <td>NaN</td>\n",
       "      <td>駐輪場</td>\n",
       "      <td>自転車駐車場</td>\n",
       "      <td>提供する駐輪場の情報が正確なものとなるように努めておりますが、利用者がこの駐輪場の情報を用い...</td>\n",
       "      <td>東京都・奥多摩町</td>\n",
       "      <td>POINT(139.163822 35.8139489)</td>\n",
       "      <td>POINT (139.16382 35.81395)</td>\n",
       "    </tr>\n",
       "    <tr>\n",
       "      <th>1611</th>\n",
       "      <td>57011.0</td>\n",
       "      <td>奥多摩町</td>\n",
       "      <td>白丸駐車場</td>\n",
       "      <td>東京都西多摩郡奥多摩町白丸56先</td>\n",
       "      <td>35.811789</td>\n",
       "      <td>139.114883</td>\n",
       "      <td>NaN</td>\n",
       "      <td>NaN</td>\n",
       "      <td>NaN</td>\n",
       "      <td>NaN</td>\n",
       "      <td>...</td>\n",
       "      <td>23台</td>\n",
       "      <td>一時利用のみ</td>\n",
       "      <td>無料</td>\n",
       "      <td>NaN</td>\n",
       "      <td>駐輪場</td>\n",
       "      <td>自転車駐車場</td>\n",
       "      <td>提供する駐輪場の情報が正確なものとなるように努めておりますが、利用者がこの駐輪場の情報を用い...</td>\n",
       "      <td>東京都・奥多摩町</td>\n",
       "      <td>POINT(139.114883 35.8117893)</td>\n",
       "      <td>POINT (139.11488 35.81179)</td>\n",
       "    </tr>\n",
       "  </tbody>\n",
       "</table>\n",
       "<p>1612 rows × 30 columns</p>\n",
       "</div>"
      ],
      "text/plain": [
       "         拠点ID  区市町村              名称                    所在地        緯度１  \\\n",
       "0      1001.0  千代田区  秋葉原駅東口第１自転車駐車場         東京都千代田区神田平河町4先  35.697952   \n",
       "1      1002.0  千代田区  飯田橋駅東口第１自転車駐車場        東京都千代田区飯田橋3-12先  35.702128   \n",
       "2      1003.0  千代田区  飯田橋駅東口第２自転車駐車場     東京都千代田区飯田橋3-11-30先  35.702592   \n",
       "3      1004.0  千代田区  秋葉原駅東口第２自転車駐車場         東京都千代田区神田和泉町1先  35.699331   \n",
       "4      1005.0  千代田区      水道橋駅自転車駐車場      東京都千代田区神田三崎町2-20先  35.702008   \n",
       "...       ...   ...             ...                    ...        ...   \n",
       "1607  50001.0   瑞穂町    箱根ケ崎駅自転車等駐車場  東京都西多摩郡瑞穂町大字箱根ケ崎249-7  35.771390   \n",
       "1608  57008.0  奥多摩町      奥多摩駅踏切横駐車場      東京都西多摩郡奥多摩町氷川166先  35.808771   \n",
       "1609  57009.0  奥多摩町         古里駅前駐車場      東京都西多摩郡奥多摩町小丹波501  35.816209   \n",
       "1610  57010.0  奥多摩町         川井駅前駐車場      東京都西多摩郡奥多摩町川井278先  35.813949   \n",
       "1611  57011.0  奥多摩町           白丸駐車場       東京都西多摩郡奥多摩町白丸56先  35.811789   \n",
       "\n",
       "             経度１       緯度２        経度２  緯度３  経度３  ...   収容台数   一時利用/定期利用の別  \\\n",
       "0     139.775410       NaN        NaN  NaN  NaN  ...   183台        定期利用のみ   \n",
       "1     139.745445       NaN        NaN  NaN  NaN  ...    80台        定期利用のみ   \n",
       "2     139.745882       NaN        NaN  NaN  NaN  ...   100台        定期利用のみ   \n",
       "3     139.775510       NaN        NaN  NaN  NaN  ...   130台        定期利用のみ   \n",
       "4     139.754028       NaN        NaN  NaN  NaN  ...    65台        定期利用のみ   \n",
       "...          ...       ...        ...  ...  ...  ...    ...           ...   \n",
       "1607  139.347060  35.77154  139.34652  NaN  NaN  ...  1370台  一時利用と定期利用の併設   \n",
       "1608  139.097826       NaN        NaN  NaN  NaN  ...    30台        一時利用のみ   \n",
       "1609  139.152115       NaN        NaN  NaN  NaN  ...    30台        一時利用のみ   \n",
       "1610  139.163822       NaN        NaN  NaN  NaN  ...    44台        一時利用のみ   \n",
       "1611  139.114883       NaN        NaN  NaN  NaN  ...    23台        一時利用のみ   \n",
       "\n",
       "      一時利用部分の有料/無料の別  定期利用部分の有料/無料の別  ジャンル１   ジャンル２  \\\n",
       "0                NaN              有料    駐輪場  自転車駐車場   \n",
       "1                NaN              有料    駐輪場  自転車駐車場   \n",
       "2                NaN              有料    駐輪場  自転車駐車場   \n",
       "3                NaN              有料    駐輪場  自転車駐車場   \n",
       "4                NaN              有料    駐輪場  自転車駐車場   \n",
       "...              ...             ...    ...     ...   \n",
       "1607              有料              有料    駐輪場  自転車駐車場   \n",
       "1608              無料             NaN    駐輪場  自転車駐車場   \n",
       "1609              無料             NaN    駐輪場  自転車駐車場   \n",
       "1610              無料             NaN    駐輪場  自転車駐車場   \n",
       "1611              無料             NaN    駐輪場  自転車駐車場   \n",
       "\n",
       "                                                     備考     情報提供元  \\\n",
       "0     提供する駐輪場の情報が正確なものとなるように努めておりますが、利用者がこの駐輪場の情報を用い...  東京都・千代田区   \n",
       "1     提供する駐輪場の情報が正確なものとなるように努めておりますが、利用者がこの駐輪場の情報を用い...  東京都・千代田区   \n",
       "2     提供する駐輪場の情報が正確なものとなるように努めておりますが、利用者がこの駐輪場の情報を用い...  東京都・千代田区   \n",
       "3     提供する駐輪場の情報が正確なものとなるように努めておりますが、利用者がこの駐輪場の情報を用い...  東京都・千代田区   \n",
       "4     提供する駐輪場の情報が正確なものとなるように努めておりますが、利用者がこの駐輪場の情報を用い...  東京都・千代田区   \n",
       "...                                                 ...       ...   \n",
       "1607  提供する駐輪場の情報が正確なものとなるように努めておりますが、利用者がこの駐輪場の情報を用い...   東京都・瑞穂町   \n",
       "1608  提供する駐輪場の情報が正確なものとなるように努めておりますが、利用者がこの駐輪場の情報を用い...  東京都・奥多摩町   \n",
       "1609  提供する駐輪場の情報が正確なものとなるように努めておりますが、利用者がこの駐輪場の情報を用い...  東京都・奥多摩町   \n",
       "1610  提供する駐輪場の情報が正確なものとなるように努めておりますが、利用者がこの駐輪場の情報を用い...  東京都・奥多摩町   \n",
       "1611  提供する駐輪場の情報が正確なものとなるように努めておりますが、利用者がこの駐輪場の情報を用い...  東京都・奥多摩町   \n",
       "\n",
       "                       coordinates                    geometry  \n",
       "0       POINT(139.77541 35.697952)  POINT (139.77541 35.69795)  \n",
       "1      POINT(139.745445 35.702128)  POINT (139.74544 35.70213)  \n",
       "2      POINT(139.745882 35.702592)  POINT (139.74588 35.70259)  \n",
       "3       POINT(139.77551 35.699331)  POINT (139.77551 35.69933)  \n",
       "4      POINT(139.754028 35.702008)  POINT (139.75403 35.70201)  \n",
       "...                            ...                         ...  \n",
       "1607     POINT(139.34706 35.77139)  POINT (139.34706 35.77139)  \n",
       "1608  POINT(139.097826 35.8087705)  POINT (139.09783 35.80877)  \n",
       "1609  POINT(139.152115 35.8162094)  POINT (139.15212 35.81621)  \n",
       "1610  POINT(139.163822 35.8139489)  POINT (139.16382 35.81395)  \n",
       "1611  POINT(139.114883 35.8117893)  POINT (139.11488 35.81179)  \n",
       "\n",
       "[1612 rows x 30 columns]"
      ]
     },
     "execution_count": 27,
     "metadata": {},
     "output_type": "execute_result"
    }
   ],
   "source": [
    "# explore\n",
    "b_park"
   ]
  },
  {
   "cell_type": "code",
   "execution_count": 28,
   "id": "54ca8a37",
   "metadata": {},
   "outputs": [
    {
     "data": {
      "text/plain": [
       "Index(['拠点ID', '区市町村', '名称', '所在地', '緯度１', '経度１', '緯度２', '経度２', '緯度３', '経度３',\n",
       "       '緯度４', '経度４', '緯度５', '経度５', '緯度６', '経度６', '連絡先', '連絡先詳細', '入出庫可能時間',\n",
       "       '休業日', '収容台数', '一時利用/定期利用の別', '一時利用部分の有料/無料の別', '定期利用部分の有料/無料の別',\n",
       "       'ジャンル１', 'ジャンル２', '備考', '情報提供元', 'coordinates', 'geometry'],\n",
       "      dtype='object')"
      ]
     },
     "execution_count": 28,
     "metadata": {},
     "output_type": "execute_result"
    }
   ],
   "source": [
    "# explore the columns\n",
    "b_park.columns"
   ]
  },
  {
   "cell_type": "code",
   "execution_count": 29,
   "id": "03af6c7e",
   "metadata": {},
   "outputs": [
    {
     "data": {
      "text/plain": [
       "pandas.core.frame.DataFrame"
      ]
     },
     "execution_count": 29,
     "metadata": {},
     "output_type": "execute_result"
    }
   ],
   "source": [
    "type(b_park)"
   ]
  },
  {
   "cell_type": "code",
   "execution_count": 30,
   "id": "b0bbfa2f",
   "metadata": {},
   "outputs": [],
   "source": [
    "# still not a Geodataframe. We will need the CRS\n",
    "bpark_df = gpd.GeoDataFrame(b_park, crs=\"EPSG:4326\")"
   ]
  },
  {
   "cell_type": "code",
   "execution_count": 31,
   "id": "16a83c15",
   "metadata": {},
   "outputs": [
    {
     "data": {
      "text/plain": [
       "geopandas.geodataframe.GeoDataFrame"
      ]
     },
     "execution_count": 31,
     "metadata": {},
     "output_type": "execute_result"
    }
   ],
   "source": [
    "# now it is a dataframe\n",
    "type(bpark_df)"
   ]
  },
  {
   "cell_type": "code",
   "execution_count": 32,
   "id": "cd38d17d",
   "metadata": {},
   "outputs": [],
   "source": [
    "# set CRSR to the point too\n",
    "\n",
    "point_crs = point.set_crs(\"EPSG:4326\")"
   ]
  },
  {
   "cell_type": "code",
   "execution_count": 33,
   "id": "f71c3c84",
   "metadata": {},
   "outputs": [
    {
     "data": {
      "text/plain": [
       "<Geographic 2D CRS: EPSG:4326>\n",
       "Name: WGS 84\n",
       "Axis Info [ellipsoidal]:\n",
       "- Lat[north]: Geodetic latitude (degree)\n",
       "- Lon[east]: Geodetic longitude (degree)\n",
       "Area of Use:\n",
       "- name: World.\n",
       "- bounds: (-180.0, -90.0, 180.0, 90.0)\n",
       "Datum: World Geodetic System 1984 ensemble\n",
       "- Ellipsoid: WGS 84\n",
       "- Prime Meridian: Greenwich"
      ]
     },
     "execution_count": 33,
     "metadata": {},
     "output_type": "execute_result"
    }
   ],
   "source": [
    "point_crs.crs"
   ]
  },
  {
   "cell_type": "code",
   "execution_count": 34,
   "id": "048cfc7d",
   "metadata": {},
   "outputs": [],
   "source": [
    "# Now we can calculate the distance, and which location has the closest distance \n",
    "def closest_feature_distance(geom, feature_dset):\n",
    "    dist = feature_dset.distance(geom)\n",
    "    min_index = dist.idxmin()\n",
    "    closest_feature_distance = dist.min()\n",
    "    closest_feature_details = feature_dset.iloc[min_index]\n",
    "    return closest_feature_details"
   ]
  },
  {
   "cell_type": "code",
   "execution_count": 35,
   "id": "e233f25f",
   "metadata": {},
   "outputs": [
    {
     "name": "stderr",
     "output_type": "stream",
     "text": [
      "C:\\Users\\galiu\\AppData\\Local\\Temp\\ipykernel_9616\\3906855069.py:3: UserWarning: Geometry is in a geographic CRS. Results from 'distance' are likely incorrect. Use 'GeoSeries.to_crs()' to re-project geometries to a projected CRS before this operation.\n",
      "\n",
      "  dist = feature_dset.distance(geom)\n"
     ]
    }
   ],
   "source": [
    "# get distance\n",
    "\n",
    "\n",
    "feature_dset= bpark_df\n",
    "        \n",
    "# Isolate geometry\n",
    "feature_dset_proj = feature_dset[['geometry']]\n",
    "\n",
    "    \n",
    "# Apply the function \n",
    "point_crs['closest_feature'] = point_crs['geometry'].apply(closest_feature_distance, feature_dset=feature_dset_proj)\n",
    "    \n",
    "closest_feature=point_crs[['geometry','closest_feature']]\n",
    "    \n",
    "\n",
    "    \n",
    "    "
   ]
  },
  {
   "cell_type": "code",
   "execution_count": 36,
   "id": "f6c0be8c",
   "metadata": {},
   "outputs": [
    {
     "data": {
      "text/html": [
       "<div>\n",
       "<style scoped>\n",
       "    .dataframe tbody tr th:only-of-type {\n",
       "        vertical-align: middle;\n",
       "    }\n",
       "\n",
       "    .dataframe tbody tr th {\n",
       "        vertical-align: top;\n",
       "    }\n",
       "\n",
       "    .dataframe thead th {\n",
       "        text-align: right;\n",
       "    }\n",
       "</style>\n",
       "<table border=\"1\" class=\"dataframe\">\n",
       "  <thead>\n",
       "    <tr style=\"text-align: right;\">\n",
       "      <th></th>\n",
       "      <th>geometry</th>\n",
       "      <th>closest_feature</th>\n",
       "    </tr>\n",
       "  </thead>\n",
       "  <tbody>\n",
       "    <tr>\n",
       "      <th>0</th>\n",
       "      <td>POINT (139.70813 35.63399)</td>\n",
       "      <td>POINT (139.709734 35.644768)</td>\n",
       "    </tr>\n",
       "  </tbody>\n",
       "</table>\n",
       "</div>"
      ],
      "text/plain": [
       "                     geometry               closest_feature\n",
       "0  POINT (139.70813 35.63399)  POINT (139.709734 35.644768)"
      ]
     },
     "execution_count": 36,
     "metadata": {},
     "output_type": "execute_result"
    }
   ],
   "source": [
    "# inspect\n",
    "closest_feature"
   ]
  },
  {
   "cell_type": "code",
   "execution_count": 37,
   "id": "ec4743a4",
   "metadata": {},
   "outputs": [
    {
     "data": {
      "text/html": [
       "<div>\n",
       "<style scoped>\n",
       "    .dataframe tbody tr th:only-of-type {\n",
       "        vertical-align: middle;\n",
       "    }\n",
       "\n",
       "    .dataframe tbody tr th {\n",
       "        vertical-align: top;\n",
       "    }\n",
       "\n",
       "    .dataframe thead th {\n",
       "        text-align: right;\n",
       "    }\n",
       "</style>\n",
       "<table border=\"1\" class=\"dataframe\">\n",
       "  <thead>\n",
       "    <tr style=\"text-align: right;\">\n",
       "      <th></th>\n",
       "      <th>closest_feature</th>\n",
       "    </tr>\n",
       "  </thead>\n",
       "  <tbody>\n",
       "    <tr>\n",
       "      <th>0</th>\n",
       "      <td>POINT (139.70973 35.64477)</td>\n",
       "    </tr>\n",
       "  </tbody>\n",
       "</table>\n",
       "</div>"
      ],
      "text/plain": [
       "              closest_feature\n",
       "0  POINT (139.70973 35.64477)"
      ]
     },
     "execution_count": 37,
     "metadata": {},
     "output_type": "execute_result"
    }
   ],
   "source": [
    "# replace the geometries - we no longer need the original geometry of the benchmark point, just the geometry of the closest feature \n",
    "closest_details=closest_feature.drop(columns='geometry').set_geometry(\"closest_feature\")\n",
    "closest_details"
   ]
  },
  {
   "cell_type": "code",
   "execution_count": 38,
   "id": "fc567814",
   "metadata": {},
   "outputs": [],
   "source": [
    "#bpark_df.to_file('workshop_data/bpark.geojson', driver='GeoJSON')"
   ]
  },
  {
   "cell_type": "code",
   "execution_count": 39,
   "id": "39bb01ee",
   "metadata": {},
   "outputs": [
    {
     "data": {
      "text/plain": [
       "geopandas.geodataframe.GeoDataFrame"
      ]
     },
     "execution_count": 39,
     "metadata": {},
     "output_type": "execute_result"
    }
   ],
   "source": [
    "type(closest_details)"
   ]
  },
  {
   "cell_type": "code",
   "execution_count": 40,
   "id": "d457a9ac",
   "metadata": {},
   "outputs": [
    {
     "data": {
      "text/plain": [
       "geopandas.geodataframe.GeoDataFrame"
      ]
     },
     "execution_count": 40,
     "metadata": {},
     "output_type": "execute_result"
    }
   ],
   "source": [
    "type(point_crs)"
   ]
  },
  {
   "cell_type": "code",
   "execution_count": 41,
   "id": "cc0e3bcd",
   "metadata": {},
   "outputs": [
    {
     "data": {
      "image/png": "[encoded data removed]",
      "text/plain": [
       "<Figure size 432x288 with 1 Axes>"
      ]
     },
     "metadata": {
      "needs_background": "light"
     },
     "output_type": "display_data"
    }
   ],
   "source": [
    "# Visualize\n",
    "ax = tokyo_23.plot(color='blue', edgecolor='black')\n",
    "\n",
    "# Plot second dataset on the same axes\n",
    "closest_details.plot(ax=ax, color='green', edgecolor='black')\n",
    "\n",
    "point_crs.plot(ax=ax, color='yellow', edgecolor='black')\n",
    "\n",
    "plt.show()"
   ]
  },
  {
   "cell_type": "code",
   "execution_count": 42,
   "id": "730f892a",
   "metadata": {},
   "outputs": [],
   "source": [
    "# PART 6 - Get information about the closest feature. Bus routes \n",
    "\n",
    "b_routes= gpd.read_file(f'workshop_data/bus_routes.geojson')"
   ]
  },
  {
   "cell_type": "code",
   "execution_count": 43,
   "id": "3408cc85",
   "metadata": {},
   "outputs": [
    {
     "data": {
      "text/plain": [
       "Index(['N07_001', 'N07_002', 'geometry'], dtype='object')"
      ]
     },
     "execution_count": 43,
     "metadata": {},
     "output_type": "execute_result"
    }
   ],
   "source": [
    "b_routes.columns"
   ]
  },
  {
   "cell_type": "code",
   "execution_count": 44,
   "id": "0a0e45e3",
   "metadata": {},
   "outputs": [
    {
     "data": {
      "text/html": [
       "<div>\n",
       "<style scoped>\n",
       "    .dataframe tbody tr th:only-of-type {\n",
       "        vertical-align: middle;\n",
       "    }\n",
       "\n",
       "    .dataframe tbody tr th {\n",
       "        vertical-align: top;\n",
       "    }\n",
       "\n",
       "    .dataframe thead th {\n",
       "        text-align: right;\n",
       "    }\n",
       "</style>\n",
       "<table border=\"1\" class=\"dataframe\">\n",
       "  <thead>\n",
       "    <tr style=\"text-align: right;\">\n",
       "      <th></th>\n",
       "      <th>N07_001</th>\n",
       "      <th>N07_002</th>\n",
       "      <th>geometry</th>\n",
       "    </tr>\n",
       "  </thead>\n",
       "  <tbody>\n",
       "    <tr>\n",
       "      <th>0</th>\n",
       "      <td>日ノ丸自動車（株）</td>\n",
       "      <td>None</td>\n",
       "      <td>LINESTRING (134.32620 35.44066, 134.32621 35.4...</td>\n",
       "    </tr>\n",
       "    <tr>\n",
       "      <th>1</th>\n",
       "      <td>日ノ丸自動車（株）</td>\n",
       "      <td>None</td>\n",
       "      <td>LINESTRING (134.32620 35.44066, 134.32621 35.4...</td>\n",
       "    </tr>\n",
       "    <tr>\n",
       "      <th>2</th>\n",
       "      <td>あいあいバス運行協会</td>\n",
       "      <td>None</td>\n",
       "      <td>LINESTRING (135.66096 35.48307, 135.66091 35.4...</td>\n",
       "    </tr>\n",
       "    <tr>\n",
       "      <th>3</th>\n",
       "      <td>上八万バス運営委員会</td>\n",
       "      <td>None</td>\n",
       "      <td>LINESTRING (134.49069 34.03236, 134.49064 34.0...</td>\n",
       "    </tr>\n",
       "    <tr>\n",
       "      <th>4</th>\n",
       "      <td>上八万バス運営委員会</td>\n",
       "      <td>None</td>\n",
       "      <td>LINESTRING (134.52183 34.04238, 134.52178 34.0...</td>\n",
       "    </tr>\n",
       "    <tr>\n",
       "      <th>...</th>\n",
       "      <td>...</td>\n",
       "      <td>...</td>\n",
       "      <td>...</td>\n",
       "    </tr>\n",
       "    <tr>\n",
       "      <th>353448</th>\n",
       "      <td>鯖江市</td>\n",
       "      <td>None</td>\n",
       "      <td>LINESTRING (136.24161 35.95234, 136.24143 35.9...</td>\n",
       "    </tr>\n",
       "    <tr>\n",
       "      <th>353449</th>\n",
       "      <td>南越前町</td>\n",
       "      <td>None</td>\n",
       "      <td>LINESTRING (136.03899 35.85059, 136.03926 35.8...</td>\n",
       "    </tr>\n",
       "    <tr>\n",
       "      <th>353450</th>\n",
       "      <td>日本交通（株）</td>\n",
       "      <td>None</td>\n",
       "      <td>LINESTRING (134.21618 35.52213, 134.21590 35.5...</td>\n",
       "    </tr>\n",
       "    <tr>\n",
       "      <th>353451</th>\n",
       "      <td>鳥取市</td>\n",
       "      <td>None</td>\n",
       "      <td>LINESTRING (134.04016 35.46370, 134.04150 35.4...</td>\n",
       "    </tr>\n",
       "    <tr>\n",
       "      <th>353452</th>\n",
       "      <td>鳥取市・日本交通（株）・日ノ丸自動車（株）</td>\n",
       "      <td>None</td>\n",
       "      <td>LINESTRING (134.23682 35.50371, 134.23723 35.5...</td>\n",
       "    </tr>\n",
       "  </tbody>\n",
       "</table>\n",
       "<p>353453 rows × 3 columns</p>\n",
       "</div>"
      ],
      "text/plain": [
       "                      N07_001 N07_002  \\\n",
       "0                   日ノ丸自動車（株）    None   \n",
       "1                   日ノ丸自動車（株）    None   \n",
       "2                  あいあいバス運行協会    None   \n",
       "3                  上八万バス運営委員会    None   \n",
       "4                  上八万バス運営委員会    None   \n",
       "...                       ...     ...   \n",
       "353448                    鯖江市    None   \n",
       "353449                   南越前町    None   \n",
       "353450                日本交通（株）    None   \n",
       "353451                    鳥取市    None   \n",
       "353452  鳥取市・日本交通（株）・日ノ丸自動車（株）    None   \n",
       "\n",
       "                                                 geometry  \n",
       "0       LINESTRING (134.32620 35.44066, 134.32621 35.4...  \n",
       "1       LINESTRING (134.32620 35.44066, 134.32621 35.4...  \n",
       "2       LINESTRING (135.66096 35.48307, 135.66091 35.4...  \n",
       "3       LINESTRING (134.49069 34.03236, 134.49064 34.0...  \n",
       "4       LINESTRING (134.52183 34.04238, 134.52178 34.0...  \n",
       "...                                                   ...  \n",
       "353448  LINESTRING (136.24161 35.95234, 136.24143 35.9...  \n",
       "353449  LINESTRING (136.03899 35.85059, 136.03926 35.8...  \n",
       "353450  LINESTRING (134.21618 35.52213, 134.21590 35.5...  \n",
       "353451  LINESTRING (134.04016 35.46370, 134.04150 35.4...  \n",
       "353452  LINESTRING (134.23682 35.50371, 134.23723 35.5...  \n",
       "\n",
       "[353453 rows x 3 columns]"
      ]
     },
     "execution_count": 44,
     "metadata": {},
     "output_type": "execute_result"
    }
   ],
   "source": [
    "b_routes"
   ]
  },
  {
   "cell_type": "code",
   "execution_count": 45,
   "id": "b76e4cb2",
   "metadata": {},
   "outputs": [],
   "source": [
    "# this time we want to see the information. get the index so we can trace back\n",
    "def closest_feature_details (geom, feature_dset):\n",
    "    dist = feature_dset.distance(geom)\n",
    "    min_index = dist.idxmin()\n",
    "    closest_feature_distance = dist.min()\n",
    "    closest_feature_details = feature_dset.iloc[min_index]\n",
    "#    return closest_feature_details\n",
    "    return min_index"
   ]
  },
  {
   "cell_type": "code",
   "execution_count": 46,
   "id": "ae71eac4",
   "metadata": {},
   "outputs": [
    {
     "name": "stderr",
     "output_type": "stream",
     "text": [
      "C:\\Users\\galiu\\AppData\\Local\\Temp\\ipykernel_9616\\389800225.py:3: UserWarning: Geometry is in a geographic CRS. Results from 'distance' are likely incorrect. Use 'GeoSeries.to_crs()' to re-project geometries to a projected CRS before this operation.\n",
      "\n",
      "  dist = feature_dset.distance(geom)\n"
     ]
    }
   ],
   "source": [
    "# get info\n",
    "\n",
    "feature_dset= b_routes\n",
    "        \n",
    "\n",
    "feature_dset_proj = feature_dset[['geometry']]\n",
    "\n",
    "    \n",
    "    # Apply the function to all elements\n",
    "point_crs['closest_feature_index'] = point_crs['geometry'].apply(closest_feature_details, feature_dset=feature_dset_proj)\n",
    "    \n",
    "feature_ind=point_crs[['geometry','closest_feature_index']]\n",
    "    \n"
   ]
  },
  {
   "cell_type": "code",
   "execution_count": 47,
   "id": "225575b4",
   "metadata": {},
   "outputs": [
    {
     "data": {
      "text/html": [
       "<div>\n",
       "<style scoped>\n",
       "    .dataframe tbody tr th:only-of-type {\n",
       "        vertical-align: middle;\n",
       "    }\n",
       "\n",
       "    .dataframe tbody tr th {\n",
       "        vertical-align: top;\n",
       "    }\n",
       "\n",
       "    .dataframe thead th {\n",
       "        text-align: right;\n",
       "    }\n",
       "</style>\n",
       "<table border=\"1\" class=\"dataframe\">\n",
       "  <thead>\n",
       "    <tr style=\"text-align: right;\">\n",
       "      <th></th>\n",
       "      <th>geometry</th>\n",
       "      <th>closest_feature_index</th>\n",
       "    </tr>\n",
       "  </thead>\n",
       "  <tbody>\n",
       "    <tr>\n",
       "      <th>0</th>\n",
       "      <td>POINT (139.70813 35.63399)</td>\n",
       "      <td>308599</td>\n",
       "    </tr>\n",
       "  </tbody>\n",
       "</table>\n",
       "</div>"
      ],
      "text/plain": [
       "                     geometry  closest_feature_index\n",
       "0  POINT (139.70813 35.63399)                 308599"
      ]
     },
     "execution_count": 47,
     "metadata": {},
     "output_type": "execute_result"
    }
   ],
   "source": [
    "feature_ind"
   ]
  },
  {
   "cell_type": "code",
   "execution_count": 48,
   "id": "95a93a30",
   "metadata": {},
   "outputs": [],
   "source": [
    "closest_feature_info = b_routes.iloc[feature_ind.closest_feature_index]"
   ]
  },
  {
   "cell_type": "code",
   "execution_count": 49,
   "id": "f9d0902f",
   "metadata": {},
   "outputs": [
    {
     "data": {
      "text/html": [
       "<div>\n",
       "<style scoped>\n",
       "    .dataframe tbody tr th:only-of-type {\n",
       "        vertical-align: middle;\n",
       "    }\n",
       "\n",
       "    .dataframe tbody tr th {\n",
       "        vertical-align: top;\n",
       "    }\n",
       "\n",
       "    .dataframe thead th {\n",
       "        text-align: right;\n",
       "    }\n",
       "</style>\n",
       "<table border=\"1\" class=\"dataframe\">\n",
       "  <thead>\n",
       "    <tr style=\"text-align: right;\">\n",
       "      <th></th>\n",
       "      <th>N07_001</th>\n",
       "      <th>N07_002</th>\n",
       "      <th>geometry</th>\n",
       "    </tr>\n",
       "  </thead>\n",
       "  <tbody>\n",
       "    <tr>\n",
       "      <th>308599</th>\n",
       "      <td>東京空港交通（株）</td>\n",
       "      <td>None</td>\n",
       "      <td>LINESTRING (139.75542 35.60555, 139.75537 35.6...</td>\n",
       "    </tr>\n",
       "  </tbody>\n",
       "</table>\n",
       "</div>"
      ],
      "text/plain": [
       "          N07_001 N07_002                                           geometry\n",
       "308599  東京空港交通（株）    None  LINESTRING (139.75542 35.60555, 139.75537 35.6..."
      ]
     },
     "execution_count": 49,
     "metadata": {},
     "output_type": "execute_result"
    }
   ],
   "source": [
    "closest_feature_info"
   ]
  },
  {
   "cell_type": "code",
   "execution_count": 50,
   "id": "3f4caad4",
   "metadata": {},
   "outputs": [
    {
     "data": {
      "image/png": "[encoded data removed]",
      "text/plain": [
       "<Figure size 432x288 with 1 Axes>"
      ]
     },
     "metadata": {
      "needs_background": "light"
     },
     "output_type": "display_data"
    }
   ],
   "source": [
    "# Visualize\n",
    "ax = tokyo_23.plot(color='blue', edgecolor='black')\n",
    "\n",
    "# Plot second dataset on the same axes\n",
    "closest_feature_info.plot(ax=ax, color='red', edgecolor='black')\n",
    "\n",
    "point_crs.plot(ax=ax, color='yellow', edgecolor='black')\n",
    "\n",
    "plt.show()"
   ]
  },
  {
   "cell_type": "code",
   "execution_count": 51,
   "id": "0fdf5729",
   "metadata": {},
   "outputs": [
    {
     "data": {
      "text/html": [
       "<div>\n",
       "<style scoped>\n",
       "    .dataframe tbody tr th:only-of-type {\n",
       "        vertical-align: middle;\n",
       "    }\n",
       "\n",
       "    .dataframe tbody tr th {\n",
       "        vertical-align: top;\n",
       "    }\n",
       "\n",
       "    .dataframe thead th {\n",
       "        text-align: right;\n",
       "    }\n",
       "</style>\n",
       "<table border=\"1\" class=\"dataframe\">\n",
       "  <thead>\n",
       "    <tr style=\"text-align: right;\">\n",
       "      <th></th>\n",
       "      <th>N03_001</th>\n",
       "      <th>N03_002</th>\n",
       "      <th>N03_003</th>\n",
       "      <th>N03_004</th>\n",
       "      <th>N03_007</th>\n",
       "      <th>geometry</th>\n",
       "    </tr>\n",
       "  </thead>\n",
       "  <tbody>\n",
       "    <tr>\n",
       "      <th>96</th>\n",
       "      <td>東京都</td>\n",
       "      <td>None</td>\n",
       "      <td>None</td>\n",
       "      <td>目黒区</td>\n",
       "      <td>13110</td>\n",
       "      <td>POLYGON ((139.68053 35.60445, 139.68045 35.604...</td>\n",
       "    </tr>\n",
       "  </tbody>\n",
       "</table>\n",
       "</div>"
      ],
      "text/plain": [
       "   N03_001 N03_002 N03_003 N03_004 N03_007  \\\n",
       "96     東京都    None    None     目黒区   13110   \n",
       "\n",
       "                                             geometry  \n",
       "96  POLYGON ((139.68053 35.60445, 139.68045 35.604...  "
      ]
     },
     "execution_count": 51,
     "metadata": {},
     "output_type": "execute_result"
    }
   ],
   "source": [
    "# PART 7 - Create new datasets - filter bus routes by area\n",
    "meg=admin[admin['N03_004']=='目黒区']\n",
    "meg"
   ]
  },
  {
   "cell_type": "code",
   "execution_count": 52,
   "id": "a5d48a5a",
   "metadata": {},
   "outputs": [
    {
     "data": {
      "image/svg+xml": [
       "<svg xmlns=\"http://www.w3.org/2000/svg\" xmlns:xlink=\"http://www.w3.org/1999/xlink\" width=\"100.0\" height=\"100.0\" viewBox=\"139.65895090543208 35.598115070526234 0.06123549088118807 0.06836574234114323\" preserveAspectRatio=\"xMinYMin meet\"><g transform=\"matrix(1,0,0,-1,0,71.26459588339361)\"><path fill-rule=\"evenodd\" fill=\"#66cc99\" stroke=\"#555555\" stroke-width=\"0.0013673148468228646\" opacity=\"0.6\" d=\"M 139.68053044092733,35.60445408129101 L 139.68045461728695,35.60441991874444 L 139.68042433171775,35.60440658629511 L 139.68041099926836,35.60440046820719 L 139.68046822313022,35.60412463984045 L 139.6804751622991,35.60409158615795 L 139.6804932170885,35.60400380243368 L 139.68053128359202,35.603820468440006 L 139.68054849481734,35.60376019767517 L 139.68058795077354,35.603623801997 L 139.68066072571207,35.60336991888681 L 139.68067544671464,35.60331158616094 L 139.68073238729005,35.60308297310087 L 139.68073710783142,35.60299936043231 L 139.6807393390494,35.60293713544064 L 139.68071627773418,35.60281519816306 L 139.68068627814944,35.602653532434715 L 139.68065878137782,35.602418251801055 L 139.68063321724935,35.602196026625506 L 139.6805918286501,35.601613251550475 L 139.6806126722372,35.601117413937686 L 139.6806126722372,35.601114081050184 L 139.68062627808047,35.60104241407629 L 139.68062905338832,35.60102797276289 L 139.68065128372996,35.600955467620906 L 139.68069294392444,35.60085658626264 L 139.68074182927216,35.6007924142387 L 139.68080544731367,35.600730747726004 L 139.68093544701344,35.600647135057386 L 139.68092516236652,35.60064741384724 L 139.68028072617471,35.60066658559464 L 139.68035795095886,35.60099158619289 L 139.68036350157456,35.60101435972507 L 139.68036933907388,35.60104325224444 L 139.6803757197638,35.601072973039436 L 139.68039238689937,35.6011546395751 L 139.6804048901737,35.60125380242118 L 139.6804048901737,35.60131963998958 L 139.68034710783297,35.60196074779043 L 139.68025961099238,35.60288658634704 L 139.68022544664723,35.60301935955596 L 139.68022350231297,35.60302686529775 L 139.6800876651139,35.60303408055853 L 139.67997933907543,35.60299741429941 L 139.67994044069894,35.60298408095076 L 139.6798323871551,35.602947413792265 L 139.67975571995066,35.603109360109045 L 139.67973961129417,35.60314353164881 L 139.67973961129417,35.60314463961362 L 139.67973710758167,35.603190198369134 L 139.6797218289994,35.603482414182224 L 139.67971933877664,35.60352853231609 L 139.6797179511227,35.60355574759984 L 139.6797043317897,35.603810747668035 L 139.6795354472033,35.60380686529476 L 139.67950405996453,35.60394908138517 L 139.6794965497262,35.60398380241071 L 139.67948627766975,35.60403074792083 L 139.67945544711142,35.6043346396321 L 139.67945238671848,35.60436436042704 L 139.67944905293166,35.604393531736264 L 139.6794168347193,35.6047113062819 L 139.67941406031082,35.604740197902004 L 139.67941099901861,35.604768801739 L 139.67939155567592,35.60496102732969 L 139.6793735017859,35.60508019829268 L 139.67936905283966,35.60511019787748 L 139.67930627836222,35.60552325199666 L 139.67930099934188,35.605558532400494 L 139.67929766465568,35.605580467764526 L 139.6792476650479,35.605677134991936 L 139.67920849507618,35.605733802173404 L 139.67919128385086,35.605758531731 L 139.67905016942996,35.605887694161936 L 139.6788782226521,35.60605630625372 L 139.6788187810621,35.60614686528578 L 139.6787571082541,35.60630380237876 L 139.67871710820816,35.606405198241475 L 139.67863516198327,35.60660797287983 L 139.6786312841067,35.60661936009558 L 139.67859961088357,35.606713531704315 L 139.67854654998348,35.60675713533368 L 139.6784148901353,35.606845467644405 L 139.67785654964018,35.607294919125366 L 139.6777171079583,35.60738602674388 L 139.67761072625422,35.607468251758576 L 139.6773946173679,35.60774019775209 L 139.6772576650094,35.60793935981377 L 139.67714627767873,35.60801325171036 L 139.67700044091782,35.60809158625784 L 139.6767240603673,35.60819686539321 L 139.67644128383836,35.608268251778554 L 139.67611535693834,35.60833333301707 L 139.67611435779156,35.608333531767244 L 139.67609905312895,35.60833658586489 L 139.67591683519402,35.60835658588792 L 139.6757468354483,35.608364640216166 L 139.6755637739492,35.60837325212407 L 139.67520710822168,35.60836297287307 L 139.6750029441307,35.60834258614159 L 139.6749999997504,35.60834230555315 L 139.67491150466242,35.608333531767244 L 139.67490944161761,35.60833333301707 L 139.67437766529724,35.608280468169255 L 139.673908495281,35.60820158593464 L 139.67387267168658,35.60819574843521 L 139.67384822271754,35.608191586372755 L 139.67379072636106,35.608189080861564 L 139.67361128373398,35.608181864701464 L 139.67340377416497,35.608174919237285 L 139.673249338986,35.608148532229166 L 139.6729954468825,35.608072972989476 L 139.6728951616825,35.60804297340468 L 139.6725735020657,35.60794741414202 L 139.67190461690473,35.60771353195412 L 139.67123041495188,35.60747800040957 L 139.67087680871794,35.607348837978634 L 139.66967457791964,35.60690938695882 L 139.66865652377976,35.60656050486358 L 139.6685079117109,35.606514946108064 L 139.66838791157306,35.606492170777244 L 139.6683090266405,35.60649189198739 L 139.66795596629504,35.60653299999814 L 139.66791596624898,35.60653744085039 L 139.66749403402264,35.60658633339273 L 139.667453476397,35.606600225220404 L 139.66731347623613,35.60664772111562 L 139.66666958503345,35.606866667362965 L 139.66666666673348,35.606867640429414 L 139.66660596609267,35.60688827897104 L 139.6665587552825,35.60690438672822 L 139.66652736714445,35.60691494566839 L 139.66647708155222,35.606932171282835 L 139.66573263265502,35.60719522477996 L 139.66539263316372,35.607354667384186 L 139.66536041495135,35.607369667176556 L 139.6651073673113,35.607488278761195 L 139.66497847018047,35.60756717088839 L 139.66449486424676,35.607863000177474 L 139.66445846958288,35.6078852251232 L 139.6637264196387,35.60833333301707 L 139.663726057212,35.60833355874689 L 139.66359263289382,35.60841522528261 L 139.66355097269945,35.6084405052253 L 139.66351374796125,35.60846355934598 L 139.66340875481035,35.608527720578024 L 139.6632151361698,35.608671613004674 L 139.6631859657599,35.60873855943714 L 139.6632881970928,35.60898772110659 L 139.66329985680318,35.609016333037516 L 139.66330929968456,35.60903966684731 L 139.66334014283348,35.609114946397824 L 139.66325985675712,35.60914299984972 L 139.66303652361682,35.609216612956516 L 139.6629195847712,35.60924494609753 L 139.66287819707134,35.609275225371505 L 139.6628479124014,35.60930772057503 L 139.66284347604574,35.60934466742265 L 139.66285875462802,35.609377170719995 L 139.66288902670738,35.60941605380799 L 139.6629281966791,35.609442171019566 L 139.66298374780195,35.609457170811936 L 139.66351763932778,35.60962966707564 L 139.66361929959123,35.609716892320876 L 139.66364763902754,35.609741333196155 L 139.66376569393185,35.609842441275816 L 139.66366763905046,35.609931332964834 L 139.66333708244053,35.61025605387397 L 139.6632609728158,35.6103841083401 L 139.66323041475198,35.61045800023669 L 139.66323041475198,35.61048855919984 L 139.66324014271856,35.61051494620796 L 139.66344097302272,35.61070217066879 L 139.66355014262513,35.61085438722034 L 139.663582633332,35.61089910780777 L 139.66359486411181,35.61091633342221 L 139.6635806997897,35.61092550470846 L 139.66356929998335,35.610933279347535 L 139.66317263331052,35.61119355933545 L 139.6632151361698,35.611542441430686 L 139.66321930003085,35.61157605359216 L 139.6632331909592,35.61168994643407 L 139.6632331909592,35.61180355868743 L 139.66322291800338,35.61185383798443 L 139.6631956937265,35.611881892335646 L 139.66313902744434,35.611905504935294 L 139.66301152965855,35.6119121707103 L 139.66281736692815,35.61188855900997 L 139.6626768091876,35.61197189198941 L 139.66270596610764,35.61206133316415 L 139.6627148639999,35.61208910782625 L 139.66272875492825,35.612131332794945 L 139.6627659661766,35.61224605391243 L 139.66313763889104,35.61254410812427 L 139.66316875543384,35.61257855935321 L 139.6631776389371,35.612609666902756 L 139.66316875543384,35.612633278603084 L 139.66314875541093,35.612649666948755 L 139.66312791182384,35.6126613329543 L 139.66301403427042,35.61267550537042 L 139.66279070023086,35.6126630002974 L 139.66263875527454,35.61280050483958 L 139.6626334762541,35.6128721709141 L 139.66263041496188,35.61291327892485 L 139.66262819723374,35.61294133327607 L 139.6626226331282,35.61301717130556 L 139.6626698574281,35.61339550529851 L 139.6626962516309,35.61352133304325 L 139.66269763928483,35.61352827940675 L 139.66274902744578,35.61377272143409 L 139.6627684698891,35.61386577518556 L 139.66282403360242,35.61413050501898 L 139.66284819658722,35.614246612891066 L 139.6628506103675,35.61425800010676 L 139.66285403408654,35.614274107863935 L 139.66292542227063,35.614548278780205 L 139.66311985659627,35.61529383834011 L 139.66318347643642,35.615525775294486 L 139.66319291841864,35.61555966714508 L 139.66321208836735,35.6156293870867 L 139.66322097276986,35.61566189218274 L 139.66328263298726,35.61573327856814 L 139.6633668086315,35.61577883822298 L 139.6635131912809,35.615804666752126 L 139.66364652386812,35.61581299987023 L 139.66372486381158,35.615818000100774 L 139.66384041500328,35.61582522525413 L 139.66386180268023,35.61594383773809 L 139.6638670817007,35.61597217087916 L 139.6638768087679,35.61602577496973 L 139.663887951368,35.61608772117154 L 139.66432544726172,35.61637522543646 L 139.66475221784071,35.6166558651762 L 139.66476878065487,35.61666666693327 L 139.66476910531014,35.61666689176383 L 139.66479294363967,35.616682441041974 L 139.66486600456267,35.61673050530874 L 139.66484128399827,35.61683355862198 L 139.66483377375982,35.616864387381725 L 139.66481766510333,35.61693161260399 L 139.66463044064255,35.61725410769111 L 139.66453072561262,35.61742577477986 L 139.66465600477102,35.617640225316336 L 139.6646898831318,35.61770800002432 L 139.66471182928763,35.61775244092257 L 139.66474044121856,35.61780938689384 L 139.66474238735145,35.61781327915969 L 139.66476739300094,35.6179132792746 L 139.66477795104174,35.61814189233462 L 139.66477016920817,35.618273278788934 L 139.6654993386237,35.618381333232094 L 139.6655507258855,35.618388838074566 L 139.66560766466216,35.61839744098927 L 139.66596822265558,35.618450775283236 L 139.66633905270533,35.618503251623906 L 139.66638516184594,35.61850991919761 L 139.66649572000165,35.61852546757643 L 139.6664818290733,35.618631306090094 L 139.6664643318636,35.6187654678522 L 139.66637350213557,35.619152413753056 L 139.66629571977182,35.61936380209795 L 139.6662654467931,35.619445467734295 L 139.66623488962864,35.61952880161306 L 139.66619627813589,35.61963380195857 L 139.66615988257274,35.61973186493378 L 139.6661526718085,35.619751864956754 L 139.66609572044138,35.619887694062015 L 139.66601766468364,35.62007353176824 L 139.66599461685826,35.62012880230253 L 139.66588822256358,35.62038213502768 L 139.66567544656482,35.620700747741466 L 139.66576822332502,35.620728802092685 L 139.6658829444425,35.62079325200716 L 139.66602267210885,35.6208718653445 L 139.66612627760583,35.62088602696872 L 139.66618016858013,35.62090769433479 L 139.66620155625696,35.62093991884234 L 139.66619072572155,35.62097908072019 L 139.66614795126713,35.621004080973705 L 139.66606182859073,35.62102936001713 L 139.66589710786536,35.62106602717557 L 139.66576099907104,35.62113408067347 L 139.66569655005594,35.62123046821171 L 139.66567155609766,35.62130574776222 L 139.66566072556225,35.62144880202078 L 139.66564655044817,35.62160964037275 L 139.66562128399528,35.62175991888529 L 139.6655943322129,35.621809081224285 L 139.66551267197246,35.62195769419242 L 139.6654337744493,35.62208380162633 L 139.66537988257573,35.62217213483632 L 139.66531155568396,35.622284640024304 L 139.665120725841,35.62247074842645 L 139.664477950697,35.623067972908814 L 139.66409933881357,35.62363241440454 L 139.66393377362488,35.623950748328525 L 139.66386350239884,35.624144919152855 L 139.66384294389695,35.62423158591912 L 139.6638221137997,35.62431880217116 L 139.6637921402952,35.62451019768764 L 139.6637724118675,35.62463658571005 L 139.66376102465176,35.624699918666465 L 139.66370674427105,35.624999999950205 L 139.66370671909,35.62500019780106 L 139.6636504673953,35.62531130567237 L 139.66359686060684,35.625693252241945 L 139.6635426980373,35.62629602733995 L 139.66353435772464,35.626390467845965 L 139.6635063042727,35.62659686495351 L 139.66349185486536,35.62670241388548 L 139.66345518770697,35.62677602699222 L 139.66338158179474,35.626869360432806 L 139.66315185537405,35.62704241427616 L 139.6630557457263,35.6270979725935 L 139.66301019506466,35.62712435960168 L 139.66290824881685,35.62718353229434 L 139.66261852142782,35.62727269377996 L 139.6621868612349,35.62738408111062 L 139.66180907942567,35.627484639704505 L 139.6618682494203,35.62760019809082 L 139.66190686091306,35.62767602712711 L 139.66198185537849,35.627779081339725 L 139.66209297021453,35.62790964041773 L 139.66212464343778,35.627992693707995 L 139.6621324117816,35.628119080831084 L 139.66213214018626,35.628120748174126 L 139.66204130955896,35.6285999186515 L 139.6619976906411,35.62888491920381 L 139.6620096372352,35.62897991908818 L 139.66216797727054,35.629428251812556 L 139.66217325629088,35.62944408077988 L 139.6622510251649,35.62967325231892 L 139.6622713102729,35.6298604677865 L 139.6622713102729,35.63016102661027 L 139.66225547321164,35.63022853242097 L 139.66222325589877,35.630285748188896 L 139.66219992208892,35.6303274137793 L 139.6619663043017,35.63074158575574 L 139.66176769082642,35.63109325215203 L 139.66168131004463,35.6312788020752 L 139.66164435780104,35.63135853237054 L 139.66148296996323,35.63170630560171 L 139.66153269797576,35.63171491930825 L 139.66163185542598,35.63173158644372 L 139.66185491607166,35.631769640356765 L 139.66226963663462,35.63180713489152 L 139.66251741874407,35.63182935983724 L 139.66336102509138,35.63190853165355 L 139.66384518770542,35.63194241361168 L 139.66398269764352,35.63192435972161 L 139.66415213980963,35.63189741423446 L 139.66449299635485,35.631808802234616 L 139.66452549875294,35.63180046821719 L 139.66528077818555,35.631604360253164 L 139.66543800306158,35.63155630587897 L 139.66547133643326,35.63154630631715 L 139.6655368871178,35.63152630629418 L 139.66600549865507,35.63138325203562 L 139.66666666673348,35.63124274825441 L 139.66666966327455,35.63124210793711 L 139.6667466146647,35.63122574836973 L 139.66677577158475,35.63121935958594 L 139.66705688706588,35.631159640105466 L 139.66710883280655,35.63114853167957 L 139.66752105055616,35.63106102674516 L 139.66814688696945,35.63092019830867 L 139.66820383923596,35.630901864729424 L 139.66907605661493,35.63062158561786 L 139.66911383893273,35.63060936023396 L 139.66922216587045,35.63057464010774 L 139.6695880028842,35.63045686489255 L 139.6696229964043,35.63044574837278 L 139.66965800341427,35.63043436025771 L 139.67012771662098,35.6302832516709 L 139.67032160775614,35.63022269402228 L 139.6703560571865,35.6302118652855 L 139.6703893896588,35.630201306345384 L 139.6709624376665,35.63002213531348 L 139.67134299568283,35.62990630623119 L 139.67138717307978,35.629892694092746 L 139.6718607776529,35.62974853186944 L 139.67199383864488,35.629707973344466 L 139.67212438423314,35.62959964011145 L 139.67217216611277,35.629559918855364 L 139.67219605660296,35.629539918832336 L 139.672417445409,35.62935602725901 L 139.67262910534907,35.62925797327699 L 139.67266771684183,35.62923991938692 L 139.67269549869843,35.62922713462473 L 139.67282466922325,35.629166864759156 L 139.673247716609,35.62897297272468 L 139.67327661542367,35.628959640275355 L 139.6733310513871,35.62893464002178 L 139.67421299583327,35.62853046760716 L 139.67468744486985,35.62826019794994 L 139.6749999997504,35.62808222481499 L 139.6750030223718,35.62808053229088 L 139.67597496827034,35.62752713536918 L 139.67615219227002,35.627410468118796 L 139.67624302199806,35.62735102742812 L 139.67633442279555,35.627291027359206 L 139.67636274964138,35.627272135300984 L 139.67640024597472,35.627247694425705 L 139.67677302215748,35.626915748363274 L 139.67707914418736,35.62658072122349 L 139.67710413724626,35.626553225351245 L 139.67713192000224,35.62652294607727 L 139.6772060825948,35.62644183802058 L 139.67759386486512,35.62593794607949 L 139.67761581102104,35.6259093332493 L 139.67768968942778,35.62581322540018 L 139.67793496782474,35.62540544130826 L 139.67796968885023,35.62534766706136 L 139.67809914356076,35.625326559073585 L 139.6782085856579,35.62530850518351 L 139.67826275002608,35.625299612687115 L 139.67854219186881,35.6252540539316 L 139.67920080407407,35.62512600036479 L 139.67938830102946,35.62509850539186 L 139.6794274710012,35.62509266699317 L 139.67959719825228,35.6250676667396 L 139.67960968893613,35.62518433309066 L 139.67961552463692,35.625237667384624 L 139.67963719829822,35.62543905436905 L 139.6796710892495,35.62566961266265 L 139.6797585860901,35.62600238700071 L 139.67977330709266,35.62604433317961 L 139.67978358004837,35.626073224799654 L 139.67983413723584,35.62621655874733 L 139.68004442301185,35.62669461316602 L 139.6802080285778,35.62706599989616 L 139.68055219193025,35.62788155908686 L 139.68056386513047,35.62790877526993 L 139.68063581089416,35.628079613183786 L 139.68084858599366,35.62860377494445 L 139.68087302237223,35.62866433259302 L 139.6809699737854,35.62890294611424 L 139.68101581133078,35.62901544140965 L 139.68117111525498,35.62939822524805 L 139.681209727647,35.62949350482154 L 139.6813177820901,35.62976238682484 L 139.6813358368795,35.62980710831158 L 139.68134472128202,35.629829333257305 L 139.68134778167496,35.62983489196688 L 139.68160500576653,35.630282387422426 L 139.6816227763702,35.630313504864546 L 139.68166999977086,35.630395720885986 L 139.68203722443855,35.63113072060645 L 139.68206834008197,35.63117766701589 L 139.6820891701792,35.63120877456544 L 139.68210722406934,35.63123599974176 L 139.68235888495474,35.631614613423835 L 139.68239722395288,35.63167210798156 L 139.6825347213005,35.63187905367556 L 139.68273805441788,35.632181000153196 L 139.68274749729937,35.63219489198087 L 139.6827691700613,35.63222710839449 L 139.68299778222206,35.632566278710954 L 139.6830272242272,35.63261017102275 L 139.68308444898832,35.63269461286626 L 139.68311778236,35.63274433278491 L 139.68317055817488,35.6328223867439 L 139.68329221756198,35.6330032251189 L 139.6832952788542,35.633007108391496 L 139.68333333276723,35.63305344056397 L 139.68333639405955,35.63305719793152 L 139.6833588852046,35.633084612864764 L 139.68340888481237,35.63314599968828 L 139.68356211400055,35.633333332967084 L 139.68356221832187,35.63333350473761 L 139.68358834003004,35.633365440562784 L 139.68361250301473,35.6333951712503 L 139.68363083029874,35.633417387202826 L 139.68374944188338,35.63356266728346 L 139.68384335898406,35.63368572061967 L 139.6838930869966,35.63375044123006 L 139.68412141407214,35.634049053920876 L 139.68423975406154,35.63425155876257 L 139.68420114077026,35.63433183764437 L 139.6840711410705,35.63460377464463 L 139.68410697815466,35.63476738740519 L 139.68416335935171,35.6349273866897 L 139.6842697536464,35.6351359997268 L 139.6842864198826,35.63516905430856 L 139.68430058420472,35.635196559174005 L 139.6843169779463,35.63522877468836 L 139.6845172497715,35.63558905389186 L 139.68462586269357,35.635738774824745 L 139.68466114129876,35.63578710798879 L 139.6848700259311,35.63607458617338 L 139.68496530460527,35.63623846783116 L 139.6849966927433,35.63629264029328 L 139.6850280799821,35.6363465321669 L 139.68532946798075,35.63686569369696 L 139.685345305042,35.63689264008343 L 139.6853875228161,35.636965414122756 L 139.68579224381722,35.637539586283026 L 139.68581530513245,35.63757208058723 L 139.68591450125336,35.637712918916236 L 139.68609367138595,35.638044864978724 L 139.68617588830682,35.63829736043499 L 139.68620756242922,35.63840791859076 L 139.6862181060809,35.638444027270225 L 139.68637061041557,35.63897458590856 L 139.68639616105418,35.63921486497418 L 139.6863825552109,35.6393090266904 L 139.6863736708084,35.639371251682064 L 139.68635228313155,35.63952013534612 L 139.68632922181632,35.639681251588684 L 139.68613700431945,35.63970346844047 L 139.68610005207597,35.6398437482905 L 139.68607061007083,35.63994846804752 L 139.68606199726355,35.63997819783572 L 139.68598033702312,35.64026708076136 L 139.68597367124812,35.64029125183998 L 139.6859592218408,35.640342640000995 L 139.68608116721225,35.64053819757993 L 139.68605367134,35.640580694143864 L 139.68602588768476,35.640623197902414 L 139.68600089462575,35.64066208099041 L 139.68587422781354,35.640856802199835 L 139.68572033672433,35.64104708075831 L 139.68570005161632,35.641071802222086 L 139.68568199682682,35.64109430595761 L 139.68534422765413,35.64151125234258 L 139.6853242276312,35.641536251696834 L 139.68530033714103,35.64156569370198 L 139.6852360571985,35.64166666688334 L 139.68523596636692,35.64166680178164 L 139.68509561636972,35.641887359614145 L 139.6849114397113,35.64220430588415 L 139.68487219239796,35.642317775145386 L 139.68486311284255,35.642344027255206 L 139.68482949438578,35.64244208123722 L 139.6848119971761,35.64249235963484 L 139.68479491635253,35.642541918574864 L 139.68473053208857,35.64272858635536 L 139.68470929999432,35.64279005411788 L 139.6846992221915,35.64281930636605 L 139.6845808947926,35.64316180237546 L 139.68455228286177,35.643244864658925 L 139.68430172544447,35.643765973221264 L 139.68439338524672,35.6440901977046 L 139.684410895047,35.644152080953916 L 139.68443810583415,35.64438319772654 L 139.68444783380062,35.64446513495818 L 139.68446894898295,35.644645135165035 L 139.68447408591055,35.64468853195035 L 139.68449036274023,35.64482569385086 L 139.68460702999062,35.64521291944084 L 139.684670921426,35.64551874829175 L 139.68471535692834,35.64577819820545 L 139.68471535692834,35.645890973190035 L 139.68471286580632,35.645912639656785 L 139.68469924827184,35.6460281980431 L 139.68467313915426,35.646253748012214 L 139.6846467440522,35.646479864554294 L 139.68458788612224,35.64669046779102 L 139.68457564185258,35.64673430614346 L 139.68452897513225,35.646900973001664 L 139.684407859835,35.64724402659073 L 139.6843270296689,35.64735680157531 L 139.68423619994087,35.64746346836455 L 139.68422138810672,35.647480837870546 L 139.6841573024177,35.64755597263019 L 139.6840742536241,35.647653747822346 L 139.68402092112876,35.64771625160387 L 139.6840200775647,35.647717359568674 L 139.68402092112876,35.6478459734131 L 139.68402202279833,35.64800625238678 L 139.6840231388569,35.64819513519751 L 139.68402341135152,35.64822625174031 L 139.68402396893123,35.648331801571544 L 139.68398036260385,35.64876653204999 L 139.68396481242632,35.64892153200327 L 139.68390953289884,35.64920402704439 L 139.68391785972165,35.649306252082056 L 139.68392869025706,35.64935846761938 L 139.6839509205987,35.64941653234723 L 139.68400647172143,35.6495170810486 L 139.68407535709218,35.64962736041451 L 139.68411396858494,35.6496909730601 L 139.6841636956982,35.649754306016575 L 139.6842189752257,35.64980958644344 L 139.6842986902326,35.64986902713406 L 139.68433341125808,35.649895414142236 L 139.68434518788024,35.64990419782066 L 139.68438369595094,35.649932918569505 L 139.68447335925828,35.64999999990022 L 139.68447352833084,35.650000134798574 L 139.6844984179678,35.65001874806694 L 139.68453647188085,35.65005153195278 L 139.6845692476728,35.65009819777379 L 139.6845934106575,35.650153468308076 L 139.68460591393193,35.6501962517558 L 139.6846125806063,35.650219585565594 L 139.68461953326505,35.65027319775004 L 139.6846209469993,35.65035680232472 L 139.68461927426029,35.65041653169777 L 139.68461788570698,35.65047013488896 L 139.68461503215815,35.650572838365974 L 139.68461289177174,35.65064930592092 L 139.68461289177174,35.65065486463044 L 139.68459844416304,35.65118541427563 L 139.68460121857152,35.65130846761184 L 139.68458705604803,35.65135041379074 L 139.68455622638896,35.65138402685153 L 139.68451678302324,35.65140513483925 L 139.68435594017467,35.651449027151045 L 139.6842548383903,35.65147653201649 L 139.68426019475237,35.651615532131245 L 139.6842631652131,35.651692918793344 L 139.68426955939287,35.65186319822817 L 139.6842070556113,35.65227263977067 L 139.6840976126149,35.6524773596426 L 139.68407836622384,35.65249822481337 L 139.68392622611464,35.65266291855903 L 139.68391263286185,35.65268280167015 L 139.68384260715072,35.65278541431559 L 139.6838217770536,35.65281625206853 L 139.6838034758499,35.652843053664185 L 139.68362817100342,35.653099864966975 L 139.68348705568326,35.653306801667725 L 139.68333649838087,35.65349846788013 L 139.68333333276723,35.653502504936796 L 139.68320033742577,35.653671802311976 L 139.68315844430697,35.6537251348073 L 139.6831345529174,35.65374902709607 L 139.68305985702693,35.653823892059165 L 139.68302150543832,35.65386235966031 L 139.6828484444004,35.65403597288201 L 139.68277678282243,35.65410763985585 L 139.68251927364577,35.6543473604425 L 139.68235538299473,35.654500414262884 L 139.68204955864041,35.654785135126076 L 139.68177011679768,35.655045693903844 L 139.68158955901117,35.65521374841592 L 139.68146771706165,35.65530930587994 L 139.68122374807774,35.65550066722216 L 139.68120177674075,35.655517918916985 L 139.68098955922096,35.65568458577519 L 139.68097444881198,35.655706135330036 L 139.6809648377572,35.65571986527971 L 139.68094316499526,35.65575041435028 L 139.68085094671403,35.65588097342834 L 139.68080289233978,35.655969865117356 L 139.68078427997068,35.6560045861429 L 139.68073649809105,35.656133198188684 L 139.68070233464516,35.65627791889102 L 139.68068955887622,35.65643430559891 L 139.6806890012965,35.6564420811373 L 139.68068177704254,35.65653180200121 L 139.68067372181497,35.65662986497648 L 139.68046900104378,35.656677639661496 L 139.68013066080152,35.656872639660776 L 139.6797451097492,35.65712486532044 L 139.67957844379032,35.65726263965928 L 139.67949732763975,35.65732930640252 L 139.67940121889137,35.65748319839105 L 139.6792420487817,35.6577159726142 L 139.67898204938228,35.658153748197094 L 139.6788205320421,35.65833333291715 L 139.67882038904986,35.65833346781545 L 139.67850483762834,35.65868430593616 L 139.67824649837735,35.65903569444191 L 139.67818927361623,35.659113748400955 L 139.6781696369194,35.65914041419893 L 139.67808844432648,35.65925069356484 L 139.67805678279444,35.659293468019314 L 139.6779167826336,35.65948430595614 L 139.67777316539946,35.659679305955365 L 139.67768428000568,35.6598001352682 L 139.6775124384485,35.66002222464613 L 139.67749622636995,35.66004319773555 L 139.6773261348934,35.66026294617819 L 139.67706630366717,35.6605986397156 L 139.6770509468439,35.660618467968106 L 139.67685678321413,35.66082902713805 L 139.67665399508599,35.66104874770173 L 139.6765317772199,35.66117680216786 L 139.67636924814246,35.66134666701521 L 139.6762353831566,35.66148653227782 L 139.67613455296737,35.66182680156578 L 139.67602014301542,35.662216801564284 L 139.675993476318,35.662433468030315 L 139.67599202301358,35.66244566733383 L 139.67599153018512,35.66244986536918 L 139.6759626331692,35.66278291939636 L 139.67591680911357,35.66293346770556 L 139.6758731910951,35.66301846802804 L 139.67570569416262,35.66318958563102 L 139.67560544673415,35.66326635985479 L 139.67541985724074,35.663408468026546 L 139.67521985701092,35.66362736031459 L 139.67502236139308,35.663857081339415 L 139.67500319144426,35.663879252325785 L 139.67500291805038,35.66387958597426 L 139.67500319144426,35.66387950503531 L 139.6750323609549,35.663872081131785 L 139.67505464255794,35.663866532314785 L 139.6752131912359,35.66382708085524 L 139.6754354218075,35.66381513516052 L 139.6758526325931,35.663826802065444 L 139.67645542208027,35.66384346830159 L 139.67717457844424,35.66390819790519 L 139.6778798573697,35.663948748336225 L 139.67834041457866,35.66392874831325 L 139.67878236121715,35.66388458620486 L 139.67890625182224,35.663872081131785 L 139.679347911577,35.66384372101106 L 139.67946347625855,35.66383317106414 L 139.67965902664298,35.663815386970725 L 139.67993795137556,35.663766775016825 L 139.68044710794788,35.663617612562916 L 139.68107350194077,35.66340372140479 L 139.68122128393532,35.66335344120853 L 139.68186739286602,35.66310538660446 L 139.68204182896739,35.66303872076054 L 139.68222961100787,35.66297817120579 L 139.68244849520204,35.662923999643056 L 139.68271766498844,35.662885666940156 L 139.68298878090764,35.662869837972835 L 139.68324795113222,35.66288094639873 L 139.68333333276723,35.66289513500266 L 139.68333654964226,35.6628956674013 L 139.68347849503664,35.66291927910163 L 139.68380627813735,35.66293510806895 L 139.68398238697773,35.66292594577595 L 139.68414377391616,35.66290899985063 L 139.6842309991615,35.66287594616813 L 139.6843121144127,35.662830945891585 L 139.68443822274594,35.66277983831907 L 139.68475377416758,35.662713999851405 L 139.68502128380533,35.66266899957486 L 139.68527155613754,35.66259372092367 L 139.6854098826601,35.66251566696462 L 139.6856082227415,35.662377612936666 L 139.68565795075403,35.66234955858545 L 139.68593377372486,35.662194000153136 L 139.68626739342562,35.66210094640172 L 139.6864087812404,35.662059558701856 L 139.68652933895805,35.662024000407484 L 139.6865948896426,35.662004837653285 L 139.68686377434392,35.66189289184365 L 139.68702350203318,35.66180900038523 L 139.68718321713197,35.661693720788776 L 139.68733099912652,35.66157122503216 L 139.68743905267036,35.661462053631055 L 139.68761128363406,35.66126955914302 L 139.68782710833455,35.6610378919853 L 139.6880112840937,35.66083344101065 L 139.68804155617306,35.66074150511656 L 139.68810155624203,35.66055038659124 L 139.68830072639753,35.66019177473078 L 139.68814128379336,35.66007233307187 L 139.6884048903736,35.65952844108483 L 139.68865238739795,35.65908844057924 L 139.68868294366314,35.659038171174814 L 139.68870878118548,35.65900455901334 L 139.68873489030307,35.6589678918549 L 139.68876544656825,35.65892650505435 L 139.6887912840907,35.65890983791883 L 139.68882044101076,35.65890983791883 L 139.68884072611877,35.6589103874046 L 139.6889229439389,35.65891289201653 L 139.68900544684402,35.65891733286878 L 139.6890665503812,35.658934278794106 L 139.68913072600242,35.658946505077324 L 139.68915294375358,35.65894899979668 L 139.68919488993242,35.65895400002722 L 139.68923461658449,35.65894955917497 L 139.68927739283754,35.65893733289175 L 139.68930488960916,35.658914278771135 L 139.6893498826911,35.65884066656366 L 139.68943099884166,35.65869261297388 L 139.6895054474187,35.65861177471379 L 139.68954571995914,35.65857150487119 L 139.6896396109795,35.65848455931513 L 139.68982182891443,35.65834261302132 L 139.68982963682845,35.658333440835804 L 139.68982972766003,35.65833333291715 L 139.69004795085243,35.658077332802804 L 139.6902121139981,35.65788455862565 L 139.6902801692945,35.657765107973546 L 139.69033600460307,35.657667613369824 L 139.69038961139165,35.65757372055094 L 139.69040710770207,35.657549278776344 L 139.69077238713612,35.65704510804545 L 139.69077294381646,35.65704427887056 L 139.69079488997238,35.65702122474988 L 139.69089710781543,35.65691261272707 L 139.69105600543048,35.65674427942514 L 139.69107128401276,35.65672789197879 L 139.69114211371777,35.65665289211745 L 139.69147211364725,35.65615455888593 L 139.69163155625154,35.65590677497784 L 139.69165238724804,35.65587427887505 L 139.69166666668355,35.65585208090897 L 139.69166988265908,35.65584708067837 L 139.6918332166298,35.65559317058853 L 139.69196795126015,35.65538372118198 L 139.69225016931,35.65494789173198 L 139.69231350226653,35.65485038723574 L 139.69239294387944,35.6547278923785 L 139.69289128430546,35.6539584414291 L 139.69289961112838,35.653946225038396 L 139.6929432165564,35.65388400004673 L 139.69303461735387,35.65380122464694 L 139.6930360050078,35.653800107688994 L 139.6930379511407,35.653798171448614 L 139.69308544703597,35.65375510831177 L 139.69313016942192,35.653722333419125 L 139.69319489003237,35.65367510821983 L 139.69320267186595,35.65366955940283 L 139.6932179513476,35.65365817128776 L 139.69343849479083,35.65349705414587 L 139.69375822266397,35.65321899995706 L 139.69378461686676,35.65319594583639 L 139.69427791209614,35.65276622458174 L 139.69441569362948,35.65263983835803 L 139.6949556942501,35.65214399984586 L 139.69511846974171,35.65180955906408 L 139.6951776388371,35.65172650487449 L 139.69528263288737,35.65157927866096 L 139.6956470822472,35.651414279145854 L 139.69586875523908,35.651259837671546 L 139.69600347637947,35.6511662254411 L 139.69597985658527,35.65112205433951 L 139.69589097299024,35.65095510779213 L 139.6959398574387,35.650752891632806 L 139.69589097299024,35.65068177504406 L 139.69658847008202,35.650490667310635 L 139.69671347584642,35.65047566661889 L 139.69686958466377,35.650456774560666 L 139.69717791183132,35.65018817134717 L 139.69739364480108,35.65000010781887 L 139.69739377430346,35.64999999990022 L 139.69755680879985,35.64985789172846 L 139.69821069956436,35.64928261340208 L 139.69853985682914,35.648992892308286 L 139.69869625163085,35.648855386866785 L 139.69892596636043,35.648679838304076 L 139.69969929968306,35.6480889999076 L 139.6997395848142,35.64806510761878 L 139.69987569360853,35.647983999562086 L 139.69999999970037,35.64791008068585 L 139.70000319139433,35.64790819840482 L 139.70026763884061,35.64775094564976 L 139.7010804146296,35.64723761262587 L 139.7010904150908,35.64723066716175 L 139.70120791241538,35.647147612972105 L 139.70131680862403,35.64707038728869 L 139.70153457765878,35.64691622460424 L 139.70177902688079,35.64664372103107 L 139.7017995853828,35.6466303867831 L 139.70201486419478,35.64648899986764 L 139.70202347610268,35.64648344115807 L 139.7021559660252,35.64639622490603 L 139.70215625200956,35.64639622490603 L 139.7024090271551,35.64623038722277 L 139.70241319101615,35.64622761281424 L 139.70243736659143,35.64621177485367 L 139.70253902685477,35.64613817074013 L 139.7025779117414,35.64610983759911 L 139.7030909731701,35.64573841399675 L 139.70341625165884,35.64550313516173 L 139.7041501434146,35.64497202703757 L 139.70475124487427,35.64458758574864 L 139.70518791159304,35.64430813491265 L 139.70546736692563,35.6441292516638 L 139.70605875480783,35.64379897294441 L 139.70614347634057,35.643751747745114 L 139.70644457835476,35.64358369413236 L 139.70673902718454,35.64336369387951 L 139.707295422446,35.64294758566274 L 139.70742041472056,35.64280925194561 L 139.7075312453709,35.64269397324841 L 139.70795374776742,35.642438413801926 L 139.7083333327173,35.64219433330203 L 139.70833652441127,35.64219227925048 L 139.7086237480877,35.64200758638117 L 139.70938902708212,35.64174591873933 L 139.70972063589886,35.64166674782234 L 139.70972102530527,35.64166666688334 L 139.7099870816387,35.641603135176695 L 139.71010708177653,35.64157425165058 L 139.71024486420924,35.64150397322993 L 139.7103345778786,35.64145813478524 L 139.71037763921686,35.64153702691243 L 139.7103940338577,35.64156674770743 L 139.71044878098667,35.64166666688334 L 139.710448807067,35.64166674782234 L 139.7105484951171,35.64184869416209 L 139.71062516232155,35.64192925183369 L 139.71071377432145,35.641937306161935 L 139.71086710783095,35.641957306184906 L 139.7109484946775,35.64196813492168 L 139.7109887807078,35.6419736936312 L 139.71103072598737,35.641979252340775 L 139.71154710771305,35.64204869439192 L 139.7116246166829,35.64205897274354 L 139.711758222664,35.642077026633615 L 139.71188849485839,35.64209453193729 L 139.71194627809848,35.642105640363184 L 139.71214044082888,35.642143134897935 L 139.71225933929725,35.64216619801181 L 139.71261544744516,35.6422350806846 L 139.71303544702846,35.64231619773449 L 139.71429878136382,35.64250591871337 L 139.7145201692706,35.64253369427473 L 139.7149396112742,35.64258591880525 L 139.7152360053376,35.642623135449526 L 139.71539377430338,35.642615919289426 L 139.71540961136463,35.64261508112128 L 139.71547406037973,35.6425989733641 L 139.7155223872486,35.64255453156653 L 139.7155748896696,35.64247841384787 L 139.71565155597466,35.64245008070685 L 139.71571211362334,35.642433972949675 L 139.7157562784297,35.64241397292665 L 139.715816835179,35.64234925231631 L 139.71593072622227,35.642243413802646 L 139.7160326715707,35.64231425160159 L 139.71613433183416,35.6423850813066 L 139.71632988311774,35.64218174818927 L 139.71640294404085,35.642114252271085 L 139.7164343321789,35.64208535975172 L 139.71646683457698,35.642055081377066 L 139.7165318285812,35.641995081308096 L 139.7166666666335,35.64193969386196 L 139.71666988260915,35.641938387147036 L 139.71680988277,35.64188091866964 L 139.7172657464173,35.64166674782234 L 139.7172659136911,35.64166666688334 L 139.7172929437146,35.64165397295267 L 139.71764099933284,35.641661171126316 L 139.71764405972579,35.641575892013975 L 139.7176448898,35.64154866683765 L 139.7176462783532,35.64151005444563 L 139.71765433178211,35.64127286455124 L 139.71704572008412,35.64107730607299 L 139.71666988260915,35.64095322481165 L 139.7166666666335,35.6409521348333 L 139.71658377432186,35.64092480173838 L 139.71644267159218,35.64087758643166 L 139.7163907258515,35.64086035991784 L 139.71629739331024,35.64082925236829 L 139.71625267182355,35.64080702742257 L 139.71562321743772,35.64049480169393 L 139.71543739322135,35.64041786469289 L 139.71534267212678,35.640378693821845 L 139.71526600492234,35.64020674794324 L 139.71519627778616,35.64005064002521 L 139.71516683488176,35.63998480155749 L 139.71505878133792,35.63974230566305 L 139.71495155606965,35.63944980206685 L 139.71493211362633,35.63939646777294 L 139.71492822315918,35.63937897326116 L 139.71484600533904,35.639000359579086 L 139.71475291831268,35.638811467775156 L 139.71468014337404,35.63865925212298 L 139.71466985692848,35.638644801816326 L 139.71466958533324,35.638644532019725 L 139.71461374822604,35.63856619837151 L 139.71452791243337,35.63848591859045 L 139.71444569371397,35.638408693806355 L 139.7142970816452,35.63826953181359 L 139.71426319069383,35.638251468031 L 139.71400374797474,35.63811258572741 L 139.71391569355455,35.6380653596288 L 139.71386791167492,35.63804758632722 L 139.71365819696837,35.63796925177974 L 139.71372208840387,35.637893694338686 L 139.71376569383187,35.637842306177674 L 139.71359457802748,35.63774953211538 L 139.713532632725,35.63771619784444 L 139.71323708222576,35.63755619766056 L 139.71322875540295,35.63755174781505 L 139.7132573277637,35.63746317088879 L 139.71328457812092,35.6373786939717 L 139.71336542177698,35.637062585869785 L 139.71339819666957,35.63693341444571 L 139.71354596607364,35.6363553599121 L 139.71356374836841,35.636285360281306 L 139.71359116689905,35.63617794615544 L 139.7136781969914,35.635811198128465 L 139.71373374811412,35.63558702682002 L 139.71377319058047,35.63542841429006 L 139.71386291773968,35.63519369393401 L 139.71387902729543,35.63515674798572 L 139.71391041543347,35.63508591917997 L 139.7139848640104,35.634952306004266 L 139.71415097328895,35.63467036044892 L 139.7141790267409,35.63462536017238 L 139.71432014296045,35.634398134766286 L 139.71440041464757,35.6342820268942 L 139.71443930043358,35.63413563974814 L 139.7144459662086,35.63389980243409 L 139.71445844430195,35.63345119811447 L 139.71443241162672,35.63333341390609 L 139.71443241162672,35.633333332967084 L 139.71443094663107,35.63332674813108 L 139.71437511042313,35.633209802090846 L 139.71434927380017,35.63315508104233 L 139.71422871608252,35.63290230589689 L 139.71420372212424,35.632708693551535 L 139.7142203892597,35.632612027223445 L 139.71435345025168,35.63234036001978 L 139.7144587158972,35.632207585911544 L 139.71447260682555,35.63213564014785 L 139.71445483802052,35.63195536025182 L 139.7144220487387,35.63162536032229 L 139.7144170557027,35.63157564040364 L 139.71440622606667,35.631315640104845 L 139.7144253834249,35.63116925205952 L 139.71448038865924,35.63099925231381 L 139.71462705639374,35.63050313501185 L 139.71476844420852,35.63002563997145 L 139.7148187163109,35.62980258562101 L 139.71482260677806,35.629784802426855 L 139.71463649837585,35.62966594622662 L 139.71450289239476,35.62958091892443 L 139.71446399491765,35.62956008073331 L 139.71444594012826,35.629550359961286 L 139.71428566834913,35.62946480205915 L 139.71452538264043,35.629161747616706 L 139.71463344967412,35.629046747709424 L 139.71449593973603,35.62899758626975 L 139.7144242799567,35.62897230632706 L 139.7142442797499,35.628907865405836 L 139.71362233470313,35.62868619780994 L 139.71327119261161,35.628552586432875 L 139.71322980491175,35.62853674757298 L 139.71237258102997,35.62821010840992 L 139.71224674429197,35.62816205403573 L 139.71210674413112,35.62810872064114 L 139.71184535707778,35.628013441067594 L 139.71179175118857,35.62799400042297 L 139.71169564244008,35.627958999708255 L 139.71181369644512,35.62767427884506 L 139.71144869040495,35.6275453871101 L 139.7113748119981,35.6275265049444 L 139.71123036289111,35.62749010758256 L 139.71099980459746,35.62743150506009 L 139.71096341083296,35.62741733264397 L 139.71093063594026,35.62740483836279 L 139.71082175142283,35.627362892183896 L 139.71041980483028,35.627107053947555 L 139.710381479322,35.627082613072275 L 139.7102631393326,35.62700733262244 L 139.7102525812918,35.62700066684744 L 139.70958258097153,35.626630387182786 L 139.70927036333683,35.626478721016326 L 139.70922674441886,35.626457613028606 L 139.70919092082454,35.62644038741411 L 139.70907425357416,35.626383721132015 L 139.70863147865998,35.62622899996853 L 139.7083959138405,35.62615817116284 L 139.70833644617028,35.626155440821094 L 139.7083333327173,35.626155305922794 L 139.7082558875993,35.62615177518444 L 139.7082053313112,35.626149278666446 L 139.70798644621766,35.626149278666446 L 139.70784367074896,35.626171224822315 L 139.70769477269573,35.626183441213016 L 139.7076461607419,35.626187613167986 L 139.70750338527318,35.626199279173534 L 139.7074694943219,35.626155666550915 L 139.70731367058966,35.62583872118023 L 139.70730143980973,35.62581427940563 L 139.70713311280304,35.6254720540922 L 139.7069317249194,35.625469838162644 L 139.70638060957765,35.62544094564328 L 139.706044773048,35.625412332813085 L 139.7057667188592,35.62535510805196 L 139.70518282682622,35.625197892169126 L 139.704634720616,35.62500010786886 L 139.70463438426964,35.624999999950205 L 139.7045770039258,35.624979278670935 L 139.70410282738374,35.62475038682106 L 139.70401616061747,35.624708440642166 L 139.703806809237,35.624999999950205 L 139.7038067193048,35.62500010786886 L 139.70376922207208,35.6250523332987 L 139.70366089513436,35.62501399969648 L 139.70359788593385,35.62500010786886 L 139.7035973022738,35.624999999950205 L 139.70324505761346,35.62492235967932 L 139.70285199722207,35.624880694088915 L 139.70250810636423,35.62482902713805 L 139.7024611671493,35.62494930606579 L 139.70244564215284,35.624999999950205 L 139.7024456160725,35.625000134848506 L 139.70241116664215,35.62511374800124 L 139.702347756344,35.625362252266314 L 139.70231422781956,35.62549430601757 L 139.70217978007292,35.62552097271487 L 139.70190978021242,35.62559374765351 L 139.70176588778565,35.625713747791394 L 139.70159228265788,35.62582930617771 L 139.70146505826597,35.625895694131145 L 139.70133422759272,35.625895694131145 L 139.70122922185124,35.625895694131145 L 139.70091616065247,35.6258979190539 L 139.70061311340464,35.62588930624668 L 139.70042418922515,35.6258612518954 L 139.70015836581615,35.62580986463371 L 139.70000308707301,35.62576955881826 L 139.69999999970037,35.62576874762976 L 139.6997119711308,35.62569402655822 L 139.69951474710808,35.62563819844428 L 139.6994161346471,35.62562097282978 L 139.6988469780058,35.62561902669688 L 139.69878557679306,35.62561846821791 L 139.6987336454415,35.62561791873213 L 139.69859169914776,35.62561680177413 L 139.69848447477887,35.62561236002256 L 139.69842224439128,35.6255995860522 L 139.698360855769,35.625572639665734 L 139.6981036451673,35.625426251620354 L 139.6978675227681,35.62528263978214 L 139.6974380803033,35.62523735981648 L 139.69708197125613,35.62515374804718 L 139.696731698809,35.62507125233657 L 139.6964488854079,35.625000134848506 L 139.69644834041878,35.624999999950205 L 139.69634725032552,35.62497458600848 L 139.69627724979546,35.62492097292471 L 139.69614280204883,35.62481819840133 L 139.6961386381878,35.62481486461445 L 139.69615418926458,35.62480930590493 L 139.69627975440733,35.62476486500668 L 139.69642169890244,35.62471486539886 L 139.6967655771698,35.62459319791793 L 139.6973869781267,35.624492080845016 L 139.69743391734164,35.62448430620594 L 139.69747169876007,35.62447819801059 L 139.69771169903584,35.62444041389415 L 139.69829197129764,35.62415153186788 L 139.69837669283027,35.62412235965934 L 139.6983972504329,35.62411541419516 L 139.69877169935467,35.624037918715146 L 139.69919780803264,35.623921252364084 L 139.69933919584741,35.62387041368879 L 139.69938335885513,35.623854305931616 L 139.699426977773,35.623838747660216 L 139.69973335880763,35.62372846829436 L 139.69999999970037,35.62365391899334 L 139.70000308707301,35.623653053845544 L 139.7001366930541,35.62361569420909 L 139.70064586311628,35.623504865357404 L 139.70071364501894,35.623482919201535 L 139.70076141430798,35.62346763971999 L 139.7008083661134,35.62345236023839 L 139.70130141402922,35.62329319822271 L 139.70135808031137,35.62327041389864 L 139.70155780804657,35.6231901350169 L 139.70163836571817,35.6231512519289 L 139.70182613516818,35.62298013522525 L 139.70185224428587,35.6229565316188 L 139.70187752332924,35.622933467605606 L 139.70193863765815,35.62287791918078 L 139.7022416992952,35.62262791934319 L 139.70225642029777,35.62261569395929 L 139.70226863758774,35.62260735994187 L 139.70238613491233,35.62252764043842 L 139.70245447529396,35.62249013511183 L 139.7027603113395,35.622364864946746 L 139.70333613465505,35.62216097335039 L 139.70341252936487,35.622127918768626 L 139.7034486380444,35.62211208080805 L 139.7038686376277,35.6219298646717 L 139.70398669343137,35.62187874810593 L 139.70393697800932,35.62180458641268 L 139.70372391692536,35.621484306355796 L 139.70329503204027,35.62157736010727 L 139.70316919620166,35.621604586182855 L 139.70297391741258,35.621540972637945 L 139.70279975380572,35.62148458604497 L 139.70275669336684,35.621470413628856 L 139.70267114086062,35.621442639866075 L 139.70266836555277,35.62139125170506 L 139.70264780795014,35.62131180199822 L 139.70260224379865,35.62120541399884 L 139.7023839171842,35.62072708079029 L 139.7024639172762,35.62064458597905 L 139.70249641967416,35.62061097291826 L 139.70259252932192,35.620512080768094 L 139.7025189108192,35.62032653174418 L 139.70251807984573,35.62032486530046 L 139.70238141437096,35.62013069357681 L 139.70238058429675,35.62012958561206 L 139.70234641995148,35.62009319814274 L 139.7016941893355,35.619395135377374 L 139.70167114061087,35.619370693602775 L 139.70163224403302,35.619329027113054 L 139.7015841887595,35.61927763985136 L 139.7008377820382,35.618436531820635 L 139.70079360644002,35.61838680200947 L 139.7007644486206,35.61835374832697 L 139.70072527864886,35.61830958621857 L 139.70029416344505,35.61781569383936 L 139.70015861223033,35.61766013540711 L 139.70000306099269,35.617494251858375 L 139.69999999970037,35.617490999909876 L 139.69993722432366,35.617424027397135 L 139.69988167320082,35.617336251766744 L 139.69978527936735,35.617184585600285 L 139.69977944186792,35.617175134624915 L 139.69962916965062,35.61693819833937 L 139.69939836584206,35.61666680183163 L 139.69939824893027,35.61666666693327 L 139.6991805581364,35.61641069379863 L 139.69897805419407,35.61615819834236 L 139.6988822179402,35.61611180231802 L 139.6988472244201,35.616094585696715 L 139.6988125033945,35.616077918561245 L 139.6987416727901,35.6160437479208 L 139.6985450063471,35.61581958560555 L 139.69825444888386,35.61541874787707 L 139.69821055837076,35.615358468118984 L 139.69815639400258,35.61528374794676 L 139.69774111496065,35.6149806944037 L 139.69733719795352,35.61475819763285 L 139.6973083009375,35.61474208088248 L 139.69727136218376,35.61472180206965 L 139.6967999744395,35.61446236024989 L 139.69647664118418,35.61424680174866 L 139.69637525341534,35.614179332810124 L 139.6958669134275,35.613498504652455 L 139.69584525325604,35.61346933334323 L 139.69582469475404,35.613441838370306 L 139.69581608284614,35.61343017056606 L 139.69567302229234,35.612819054256136 L 139.69565413742873,35.61270627927155 L 139.69564275021298,35.61263933283908 L 139.69560525298027,35.61241599969878 L 139.69559775623168,35.61237183759039 L 139.69558192006969,35.61227683770608 L 139.69558581143622,35.61210655917051 L 139.69560330684726,35.611982108287805 L 139.69569968898963,35.61129322490257 L 139.69570386544126,35.61123572135165 L 139.69573968903558,35.61072933289256 L 139.6957416342692,35.61069989178674 L 139.69575357996393,35.610532107970585 L 139.69574635481058,35.61033294590891 L 139.69570635476464,35.61010127875119 L 139.6956533073544,35.60989461274636 L 139.69563581104399,35.60982572108031 L 139.6956266406571,35.609790721264915 L 139.6956071982138,35.609714613438825 L 139.69559355369972,35.60952433308165 L 139.6955910508865,35.60949072092018 L 139.6955871730098,35.60943572108181 L 139.69574216576848,35.609099612956925 L 139.69577577163477,35.60902683801834 L 139.6958105061501,35.60895155936714 L 139.69543160828232,35.608919892439246 L 139.69547328106728,35.608571558930464 L 139.69549883260527,35.608507386906524 L 139.6955196627024,35.60845489168008 L 139.69553160839723,35.608425440681685 L 139.6955393902308,35.60840572124721 L 139.69554555058687,35.608333504787595 L 139.6955455766672,35.60833333301707 L 139.69554771705373,35.60830822484485 L 139.695437717377,35.60772961273159 L 139.69542744532055,35.60767461289322 L 139.69541466865223,35.60760877532488 L 139.69539272429495,35.60749238686435 L 139.69503717282748,35.608161279219814 L 139.6948881713522,35.60833333301707 L 139.69488802925935,35.608333504787595 L 139.69482243810523,35.60840905413471 L 139.6946863293108,35.60853710770152 L 139.69430577219384,35.60886322525778 L 139.69426605723288,35.60889738690503 L 139.69383328098127,35.60926822504871 L 139.69364577233466,35.60938683843199 L 139.69347133623342,35.60949738669518 L 139.6932538387938,35.60963489213674 L 139.6932010512877,35.60966850519753 L 139.6927124379289,35.6099779457258 L 139.69192544660223,35.61051008087571 L 139.6916696632245,35.61068310773942 L 139.69166666668355,35.61068513481126 L 139.69162022029707,35.610716558922206 L 139.69152189382055,35.61078266718653 L 139.69149105067163,35.61080322478915 L 139.69130383880133,35.61092905433253 L 139.69099328131506,35.611063225087946 L 139.69095883278408,35.61107794609052 L 139.69095688665118,35.61107850456949 L 139.6909160574303,35.61108933330627 L 139.69073216585696,35.61113877533438 L 139.69056632907302,35.61115627883936 L 139.69022216572057,35.61116877491918 L 139.69018717309973,35.61117017066698 L 139.68997966263146,35.61117794620543 L 139.6897618935967,35.611186279323476 L 139.68955383903858,35.611194053962606 L 139.6893666145778,35.611184612879754 L 139.68930800306202,35.61118155878205 L 139.689258002555,35.61117905417018 L 139.6888446687467,35.61115794618246 L 139.6886310509824,35.61116961308733 L 139.6885699483446,35.611173224764684 L 139.6883918942707,35.611182946435974 L 139.68781661504488,35.611315171058436 L 139.68763939014593,35.61138377494143 L 139.6870285598203,35.6116196131548 L 139.68699438378394,35.6116282250627 L 139.68686299643036,35.61166099995535 L 139.68686133628182,35.61166155933364 L 139.68680938964178,35.6116668383541 L 139.68662494228738,35.611685721419065 L 139.68612771702067,35.61168433286582 L 139.68593883331073,35.611813505189275 L 139.68588939038318,35.61184738714735 L 139.6858571730703,35.61186961299239 L 139.6855341123096,35.612090721209995 L 139.68514661512438,35.612406838305105 L 139.6850916080914,35.612451558892474 L 139.68508966285788,35.61245322533625 L 139.68502383877933,35.61250683842002 L 139.68469272369043,35.61277683828064 L 139.68446910456566,35.6130815591668 L 139.68426856024598,35.613210171212586 L 139.68416355360534,35.61316294601329 L 139.6841266148516,35.613146558566996 L 139.68400383940582,35.61309155872863 L 139.68401411236152,35.613024053817185 L 139.6840180028288,35.612998774773814 L 139.68402328094987,35.61296266699367 L 139.68423046676276,35.61159686480363 L 139.68425269800377,35.61145853198582 L 139.68425797702423,35.61142630567963 L 139.68426380013443,35.61138991910963 L 139.68443518843333,35.61032991879091 L 139.68470491579944,35.609347693641325 L 139.6847096372402,35.609222972962016 L 139.68469880670477,35.609120198438575 L 139.68469574631183,35.60909269357313 L 139.68465046724543,35.6086649193507 L 139.68461538289375,35.608333531767244 L 139.68461535681342,35.60833333301707 L 139.6845985206054,35.60817408106914 L 139.6845657457128,35.607692414073824 L 139.68456352798455,35.607659080702206 L 139.68454686084908,35.6074157484382 L 139.6845413102335,35.60733297303847 L 139.6850165893443,35.607319360000645 L 139.6850174194185,35.607252413568176 L 139.68501936375276,35.60711491891851 L 139.6850218548749,35.60692269422714 L 139.68502408609288,35.606744918943036 L 139.68502797656004,35.606449640039045 L 139.68491102512394,35.60633686505446 L 139.68475713403473,35.60533769397955 L 139.6840929703145,35.605387693587375 L 139.68379296996977,35.60543325234289 L 139.68333630412735,35.60550238682583 L 139.68333333276723,35.60550283828553 L 139.68308658937474,35.60554019792198 L 139.68278797668393,35.60558658585239 L 139.68272713395027,35.60561130641685 L 139.6826768609485,35.605643531823716 L 139.68260880655134,35.605718531685056 L 139.68251574560531,35.605775748352244 L 139.6824549163615,35.60580436028317 L 139.68237992189609,35.60583658569004 L 139.6823082486269,35.605847134737644 L 139.68222600472654,35.605847134737644 L 139.6821507260753,35.60584380185014 L 139.68208988334163,35.60584019826672 L 139.6820435017064,35.60582213538339 L 139.6819804412445,35.605805197552 L 139.681947951437,35.6057774138967 L 139.68190600525816,35.60573546771781 L 139.6818898831118,35.60568686475716 L 139.6817923867095,35.60528908112639 L 139.68167321664578,35.605007134671666 L 139.6814515562445,35.60450408089878 L 139.68108182876358,35.60449491860578 L 139.68107238678135,35.604494639815925 L 139.68070516211367,35.604469359873235 L 139.68069822294478,35.60446880229358 L 139.6806176652732,35.604463251677885 L 139.68053849525552,35.60445769386763 L 139.68053044092733,35.60445408129101 z\" /></g></svg>"
      ],
      "text/plain": [
       "<shapely.geometry.polygon.Polygon at 0x1eb9c0c5610>"
      ]
     },
     "execution_count": 52,
     "metadata": {},
     "output_type": "execute_result"
    }
   ],
   "source": [
    "meg_pol=admin.geometry[96]\n",
    "meg_pol"
   ]
  },
  {
   "cell_type": "code",
   "execution_count": 53,
   "id": "0dd80125",
   "metadata": {},
   "outputs": [
    {
     "data": {
      "text/plain": [
       "0         False\n",
       "1         False\n",
       "2         False\n",
       "3         False\n",
       "4         False\n",
       "          ...  \n",
       "353448    False\n",
       "353449    False\n",
       "353450    False\n",
       "353451    False\n",
       "353452    False\n",
       "Length: 353453, dtype: bool"
      ]
     },
     "execution_count": 53,
     "metadata": {},
     "output_type": "execute_result"
    }
   ],
   "source": [
    "# create routes within Meguro ward only \n",
    "intersections = b_routes['geometry'].within(meg_pol)\n",
    "intersections"
   ]
  },
  {
   "cell_type": "code",
   "execution_count": 61,
   "id": "1deb62e5",
   "metadata": {},
   "outputs": [
    {
     "data": {
      "text/html": [
       "<div>\n",
       "<style scoped>\n",
       "    .dataframe tbody tr th:only-of-type {\n",
       "        vertical-align: middle;\n",
       "    }\n",
       "\n",
       "    .dataframe tbody tr th {\n",
       "        vertical-align: top;\n",
       "    }\n",
       "\n",
       "    .dataframe thead th {\n",
       "        text-align: right;\n",
       "    }\n",
       "</style>\n",
       "<table border=\"1\" class=\"dataframe\">\n",
       "  <thead>\n",
       "    <tr style=\"text-align: right;\">\n",
       "      <th></th>\n",
       "      <th>N07_001</th>\n",
       "      <th>N07_002</th>\n",
       "      <th>geometry</th>\n",
       "    </tr>\n",
       "  </thead>\n",
       "  <tbody>\n",
       "    <tr>\n",
       "      <th>152064</th>\n",
       "      <td>小田急バス（株）</td>\n",
       "      <td>None</td>\n",
       "      <td>LINESTRING (139.68256 35.65565, 139.68296 35.6...</td>\n",
       "    </tr>\n",
       "    <tr>\n",
       "      <th>152066</th>\n",
       "      <td>小田急バス（株）</td>\n",
       "      <td>None</td>\n",
       "      <td>LINESTRING (139.68958 35.65541, 139.68985 35.6...</td>\n",
       "    </tr>\n",
       "    <tr>\n",
       "      <th>152067</th>\n",
       "      <td>小田急バス（株）</td>\n",
       "      <td>None</td>\n",
       "      <td>LINESTRING (139.68649 35.65537, 139.68665 35.6...</td>\n",
       "    </tr>\n",
       "    <tr>\n",
       "      <th>152525</th>\n",
       "      <td>小田急バス（株）</td>\n",
       "      <td>None</td>\n",
       "      <td>LINESTRING (139.68805 35.65240, 139.68875 35.6...</td>\n",
       "    </tr>\n",
       "    <tr>\n",
       "      <th>270236</th>\n",
       "      <td>東急バス（株）</td>\n",
       "      <td>None</td>\n",
       "      <td>LINESTRING (139.68689 35.63715, 139.68689 35.6...</td>\n",
       "    </tr>\n",
       "    <tr>\n",
       "      <th>...</th>\n",
       "      <td>...</td>\n",
       "      <td>...</td>\n",
       "      <td>...</td>\n",
       "    </tr>\n",
       "    <tr>\n",
       "      <th>340168</th>\n",
       "      <td>東急バス（株）</td>\n",
       "      <td>None</td>\n",
       "      <td>LINESTRING (139.68301 35.63019, 139.68380 35.6...</td>\n",
       "    </tr>\n",
       "    <tr>\n",
       "      <th>340186</th>\n",
       "      <td>東急バス（株）</td>\n",
       "      <td>None</td>\n",
       "      <td>LINESTRING (139.66732 35.60885, 139.66705 35.6...</td>\n",
       "    </tr>\n",
       "    <tr>\n",
       "      <th>340187</th>\n",
       "      <td>東急バス（株）</td>\n",
       "      <td>None</td>\n",
       "      <td>LINESTRING (139.66732 35.60885, 139.66780 35.6...</td>\n",
       "    </tr>\n",
       "    <tr>\n",
       "      <th>340188</th>\n",
       "      <td>東急バス（株）</td>\n",
       "      <td>None</td>\n",
       "      <td>LINESTRING (139.66780 35.60878, 139.66787 35.6...</td>\n",
       "    </tr>\n",
       "    <tr>\n",
       "      <th>340209</th>\n",
       "      <td>東急バス（株）</td>\n",
       "      <td>None</td>\n",
       "      <td>LINESTRING (139.66858 35.60775, 139.66857 35.6...</td>\n",
       "    </tr>\n",
       "  </tbody>\n",
       "</table>\n",
       "<p>129 rows × 3 columns</p>\n",
       "</div>"
      ],
      "text/plain": [
       "         N07_001 N07_002                                           geometry\n",
       "152064  小田急バス（株）    None  LINESTRING (139.68256 35.65565, 139.68296 35.6...\n",
       "152066  小田急バス（株）    None  LINESTRING (139.68958 35.65541, 139.68985 35.6...\n",
       "152067  小田急バス（株）    None  LINESTRING (139.68649 35.65537, 139.68665 35.6...\n",
       "152525  小田急バス（株）    None  LINESTRING (139.68805 35.65240, 139.68875 35.6...\n",
       "270236   東急バス（株）    None  LINESTRING (139.68689 35.63715, 139.68689 35.6...\n",
       "...          ...     ...                                                ...\n",
       "340168   東急バス（株）    None  LINESTRING (139.68301 35.63019, 139.68380 35.6...\n",
       "340186   東急バス（株）    None  LINESTRING (139.66732 35.60885, 139.66705 35.6...\n",
       "340187   東急バス（株）    None  LINESTRING (139.66732 35.60885, 139.66780 35.6...\n",
       "340188   東急バス（株）    None  LINESTRING (139.66780 35.60878, 139.66787 35.6...\n",
       "340209   東急バス（株）    None  LINESTRING (139.66858 35.60775, 139.66857 35.6...\n",
       "\n",
       "[129 rows x 3 columns]"
      ]
     },
     "execution_count": 61,
     "metadata": {},
     "output_type": "execute_result"
    }
   ],
   "source": [
    "# apply the mask\n",
    "intersecting_routes = b_routes[intersections]\n",
    "intersecting_routes"
   ]
  },
  {
   "cell_type": "code",
   "execution_count": 62,
   "id": "cdccf146",
   "metadata": {},
   "outputs": [],
   "source": [
    "# New geometry - UNARY UNION\n",
    "# Flattens the geometry to a outer boundary. \n",
    "# Careful as it may mess up the original frame - use copy()\n",
    "\n",
    "tokyo_outline=tokyo_23.unary_union\n",
    "\n"
   ]
  },
  {
   "cell_type": "code",
   "execution_count": 63,
   "id": "56f680a4",
   "metadata": {},
   "outputs": [
    {
     "data": {
      "text/plain": [
       "0    True\n",
       "dtype: bool"
      ]
     },
     "execution_count": 63,
     "metadata": {},
     "output_type": "execute_result"
    }
   ],
   "source": [
    "# check whether the point is within Tokyo\n",
    "point_crs.within(tokyo_outline)"
   ]
  },
  {
   "cell_type": "code",
   "execution_count": 64,
   "id": "83c322b3",
   "metadata": {},
   "outputs": [
    {
     "name": "stderr",
     "output_type": "stream",
     "text": [
      "C:\\Users\\galiu\\anaconda3\\lib\\site-packages\\IPython\\core\\interactiveshell.py:3473: FutureWarning: The `op` parameter is deprecated and will be removed in a future release. Please use the `predicate` parameter instead.\n",
      "  if (await self.run_code(code, result,  async_=asy)):\n",
      "C:\\Users\\galiu\\AppData\\Local\\Temp\\ipykernel_9616\\2928493724.py:5: UserWarning: CRS mismatch between the CRS of left geometries and the CRS of right geometries.\n",
      "Use `to_crs()` to reproject one of the input geometries to match the CRS of the other.\n",
      "\n",
      "Left CRS: EPSG:4326\n",
      "Right CRS: EPSG:6668\n",
      "\n",
      "  joined=gpd.sjoin(bpark_df,admin,op='within')\n"
     ]
    },
    {
     "data": {
      "text/html": [
       "<div>\n",
       "<style scoped>\n",
       "    .dataframe tbody tr th:only-of-type {\n",
       "        vertical-align: middle;\n",
       "    }\n",
       "\n",
       "    .dataframe tbody tr th {\n",
       "        vertical-align: top;\n",
       "    }\n",
       "\n",
       "    .dataframe thead th {\n",
       "        text-align: right;\n",
       "    }\n",
       "</style>\n",
       "<table border=\"1\" class=\"dataframe\">\n",
       "  <thead>\n",
       "    <tr style=\"text-align: right;\">\n",
       "      <th></th>\n",
       "      <th>拠点ID</th>\n",
       "      <th>区市町村</th>\n",
       "      <th>名称</th>\n",
       "      <th>所在地</th>\n",
       "      <th>緯度１</th>\n",
       "      <th>経度１</th>\n",
       "      <th>緯度２</th>\n",
       "      <th>経度２</th>\n",
       "      <th>緯度３</th>\n",
       "      <th>経度３</th>\n",
       "      <th>...</th>\n",
       "      <th>備考</th>\n",
       "      <th>情報提供元</th>\n",
       "      <th>coordinates</th>\n",
       "      <th>geometry</th>\n",
       "      <th>index_right</th>\n",
       "      <th>N03_001</th>\n",
       "      <th>N03_002</th>\n",
       "      <th>N03_003</th>\n",
       "      <th>N03_004</th>\n",
       "      <th>N03_007</th>\n",
       "    </tr>\n",
       "  </thead>\n",
       "  <tbody>\n",
       "    <tr>\n",
       "      <th>0</th>\n",
       "      <td>1001.0</td>\n",
       "      <td>千代田区</td>\n",
       "      <td>秋葉原駅東口第１自転車駐車場</td>\n",
       "      <td>東京都千代田区神田平河町4先</td>\n",
       "      <td>35.697952</td>\n",
       "      <td>139.775410</td>\n",
       "      <td>NaN</td>\n",
       "      <td>NaN</td>\n",
       "      <td>NaN</td>\n",
       "      <td>NaN</td>\n",
       "      <td>...</td>\n",
       "      <td>提供する駐輪場の情報が正確なものとなるように努めておりますが、利用者がこの駐輪場の情報を用い...</td>\n",
       "      <td>東京都・千代田区</td>\n",
       "      <td>POINT(139.77541 35.697952)</td>\n",
       "      <td>POINT (139.77541 35.69795)</td>\n",
       "      <td>0</td>\n",
       "      <td>東京都</td>\n",
       "      <td>None</td>\n",
       "      <td>None</td>\n",
       "      <td>千代田区</td>\n",
       "      <td>13101</td>\n",
       "    </tr>\n",
       "    <tr>\n",
       "      <th>1</th>\n",
       "      <td>1002.0</td>\n",
       "      <td>千代田区</td>\n",
       "      <td>飯田橋駅東口第１自転車駐車場</td>\n",
       "      <td>東京都千代田区飯田橋3-12先</td>\n",
       "      <td>35.702128</td>\n",
       "      <td>139.745445</td>\n",
       "      <td>NaN</td>\n",
       "      <td>NaN</td>\n",
       "      <td>NaN</td>\n",
       "      <td>NaN</td>\n",
       "      <td>...</td>\n",
       "      <td>提供する駐輪場の情報が正確なものとなるように努めておりますが、利用者がこの駐輪場の情報を用い...</td>\n",
       "      <td>東京都・千代田区</td>\n",
       "      <td>POINT(139.745445 35.702128)</td>\n",
       "      <td>POINT (139.74544 35.70213)</td>\n",
       "      <td>0</td>\n",
       "      <td>東京都</td>\n",
       "      <td>None</td>\n",
       "      <td>None</td>\n",
       "      <td>千代田区</td>\n",
       "      <td>13101</td>\n",
       "    </tr>\n",
       "    <tr>\n",
       "      <th>2</th>\n",
       "      <td>1003.0</td>\n",
       "      <td>千代田区</td>\n",
       "      <td>飯田橋駅東口第２自転車駐車場</td>\n",
       "      <td>東京都千代田区飯田橋3-11-30先</td>\n",
       "      <td>35.702592</td>\n",
       "      <td>139.745882</td>\n",
       "      <td>NaN</td>\n",
       "      <td>NaN</td>\n",
       "      <td>NaN</td>\n",
       "      <td>NaN</td>\n",
       "      <td>...</td>\n",
       "      <td>提供する駐輪場の情報が正確なものとなるように努めておりますが、利用者がこの駐輪場の情報を用い...</td>\n",
       "      <td>東京都・千代田区</td>\n",
       "      <td>POINT(139.745882 35.702592)</td>\n",
       "      <td>POINT (139.74588 35.70259)</td>\n",
       "      <td>0</td>\n",
       "      <td>東京都</td>\n",
       "      <td>None</td>\n",
       "      <td>None</td>\n",
       "      <td>千代田区</td>\n",
       "      <td>13101</td>\n",
       "    </tr>\n",
       "    <tr>\n",
       "      <th>3</th>\n",
       "      <td>1004.0</td>\n",
       "      <td>千代田区</td>\n",
       "      <td>秋葉原駅東口第２自転車駐車場</td>\n",
       "      <td>東京都千代田区神田和泉町1先</td>\n",
       "      <td>35.699331</td>\n",
       "      <td>139.775510</td>\n",
       "      <td>NaN</td>\n",
       "      <td>NaN</td>\n",
       "      <td>NaN</td>\n",
       "      <td>NaN</td>\n",
       "      <td>...</td>\n",
       "      <td>提供する駐輪場の情報が正確なものとなるように努めておりますが、利用者がこの駐輪場の情報を用い...</td>\n",
       "      <td>東京都・千代田区</td>\n",
       "      <td>POINT(139.77551 35.699331)</td>\n",
       "      <td>POINT (139.77551 35.69933)</td>\n",
       "      <td>0</td>\n",
       "      <td>東京都</td>\n",
       "      <td>None</td>\n",
       "      <td>None</td>\n",
       "      <td>千代田区</td>\n",
       "      <td>13101</td>\n",
       "    </tr>\n",
       "    <tr>\n",
       "      <th>4</th>\n",
       "      <td>1005.0</td>\n",
       "      <td>千代田区</td>\n",
       "      <td>水道橋駅自転車駐車場</td>\n",
       "      <td>東京都千代田区神田三崎町2-20先</td>\n",
       "      <td>35.702008</td>\n",
       "      <td>139.754028</td>\n",
       "      <td>NaN</td>\n",
       "      <td>NaN</td>\n",
       "      <td>NaN</td>\n",
       "      <td>NaN</td>\n",
       "      <td>...</td>\n",
       "      <td>提供する駐輪場の情報が正確なものとなるように努めておりますが、利用者がこの駐輪場の情報を用い...</td>\n",
       "      <td>東京都・千代田区</td>\n",
       "      <td>POINT(139.754028 35.702008)</td>\n",
       "      <td>POINT (139.75403 35.70201)</td>\n",
       "      <td>0</td>\n",
       "      <td>東京都</td>\n",
       "      <td>None</td>\n",
       "      <td>None</td>\n",
       "      <td>千代田区</td>\n",
       "      <td>13101</td>\n",
       "    </tr>\n",
       "    <tr>\n",
       "      <th>...</th>\n",
       "      <td>...</td>\n",
       "      <td>...</td>\n",
       "      <td>...</td>\n",
       "      <td>...</td>\n",
       "      <td>...</td>\n",
       "      <td>...</td>\n",
       "      <td>...</td>\n",
       "      <td>...</td>\n",
       "      <td>...</td>\n",
       "      <td>...</td>\n",
       "      <td>...</td>\n",
       "      <td>...</td>\n",
       "      <td>...</td>\n",
       "      <td>...</td>\n",
       "      <td>...</td>\n",
       "      <td>...</td>\n",
       "      <td>...</td>\n",
       "      <td>...</td>\n",
       "      <td>...</td>\n",
       "      <td>...</td>\n",
       "      <td>...</td>\n",
       "    </tr>\n",
       "    <tr>\n",
       "      <th>1607</th>\n",
       "      <td>50001.0</td>\n",
       "      <td>瑞穂町</td>\n",
       "      <td>箱根ケ崎駅自転車等駐車場</td>\n",
       "      <td>東京都西多摩郡瑞穂町大字箱根ケ崎249-7</td>\n",
       "      <td>35.771390</td>\n",
       "      <td>139.347060</td>\n",
       "      <td>35.77154</td>\n",
       "      <td>139.34652</td>\n",
       "      <td>NaN</td>\n",
       "      <td>NaN</td>\n",
       "      <td>...</td>\n",
       "      <td>提供する駐輪場の情報が正確なものとなるように努めておりますが、利用者がこの駐輪場の情報を用い...</td>\n",
       "      <td>東京都・瑞穂町</td>\n",
       "      <td>POINT(139.34706 35.77139)</td>\n",
       "      <td>POINT (139.34706 35.77139)</td>\n",
       "      <td>147</td>\n",
       "      <td>東京都</td>\n",
       "      <td>None</td>\n",
       "      <td>西多摩郡</td>\n",
       "      <td>瑞穂町</td>\n",
       "      <td>13303</td>\n",
       "    </tr>\n",
       "    <tr>\n",
       "      <th>1608</th>\n",
       "      <td>57008.0</td>\n",
       "      <td>奥多摩町</td>\n",
       "      <td>奥多摩駅踏切横駐車場</td>\n",
       "      <td>東京都西多摩郡奥多摩町氷川166先</td>\n",
       "      <td>35.808771</td>\n",
       "      <td>139.097826</td>\n",
       "      <td>NaN</td>\n",
       "      <td>NaN</td>\n",
       "      <td>NaN</td>\n",
       "      <td>NaN</td>\n",
       "      <td>...</td>\n",
       "      <td>提供する駐輪場の情報が正確なものとなるように努めておりますが、利用者がこの駐輪場の情報を用い...</td>\n",
       "      <td>東京都・奥多摩町</td>\n",
       "      <td>POINT(139.097826 35.8087705)</td>\n",
       "      <td>POINT (139.09783 35.80877)</td>\n",
       "      <td>150</td>\n",
       "      <td>東京都</td>\n",
       "      <td>None</td>\n",
       "      <td>西多摩郡</td>\n",
       "      <td>奥多摩町</td>\n",
       "      <td>13308</td>\n",
       "    </tr>\n",
       "    <tr>\n",
       "      <th>1609</th>\n",
       "      <td>57009.0</td>\n",
       "      <td>奥多摩町</td>\n",
       "      <td>古里駅前駐車場</td>\n",
       "      <td>東京都西多摩郡奥多摩町小丹波501</td>\n",
       "      <td>35.816209</td>\n",
       "      <td>139.152115</td>\n",
       "      <td>NaN</td>\n",
       "      <td>NaN</td>\n",
       "      <td>NaN</td>\n",
       "      <td>NaN</td>\n",
       "      <td>...</td>\n",
       "      <td>提供する駐輪場の情報が正確なものとなるように努めておりますが、利用者がこの駐輪場の情報を用い...</td>\n",
       "      <td>東京都・奥多摩町</td>\n",
       "      <td>POINT(139.152115 35.8162094)</td>\n",
       "      <td>POINT (139.15212 35.81621)</td>\n",
       "      <td>150</td>\n",
       "      <td>東京都</td>\n",
       "      <td>None</td>\n",
       "      <td>西多摩郡</td>\n",
       "      <td>奥多摩町</td>\n",
       "      <td>13308</td>\n",
       "    </tr>\n",
       "    <tr>\n",
       "      <th>1610</th>\n",
       "      <td>57010.0</td>\n",
       "      <td>奥多摩町</td>\n",
       "      <td>川井駅前駐車場</td>\n",
       "      <td>東京都西多摩郡奥多摩町川井278先</td>\n",
       "      <td>35.813949</td>\n",
       "      <td>139.163822</td>\n",
       "      <td>NaN</td>\n",
       "      <td>NaN</td>\n",
       "      <td>NaN</td>\n",
       "      <td>NaN</td>\n",
       "      <td>...</td>\n",
       "      <td>提供する駐輪場の情報が正確なものとなるように努めておりますが、利用者がこの駐輪場の情報を用い...</td>\n",
       "      <td>東京都・奥多摩町</td>\n",
       "      <td>POINT(139.163822 35.8139489)</td>\n",
       "      <td>POINT (139.16382 35.81395)</td>\n",
       "      <td>150</td>\n",
       "      <td>東京都</td>\n",
       "      <td>None</td>\n",
       "      <td>西多摩郡</td>\n",
       "      <td>奥多摩町</td>\n",
       "      <td>13308</td>\n",
       "    </tr>\n",
       "    <tr>\n",
       "      <th>1611</th>\n",
       "      <td>57011.0</td>\n",
       "      <td>奥多摩町</td>\n",
       "      <td>白丸駐車場</td>\n",
       "      <td>東京都西多摩郡奥多摩町白丸56先</td>\n",
       "      <td>35.811789</td>\n",
       "      <td>139.114883</td>\n",
       "      <td>NaN</td>\n",
       "      <td>NaN</td>\n",
       "      <td>NaN</td>\n",
       "      <td>NaN</td>\n",
       "      <td>...</td>\n",
       "      <td>提供する駐輪場の情報が正確なものとなるように努めておりますが、利用者がこの駐輪場の情報を用い...</td>\n",
       "      <td>東京都・奥多摩町</td>\n",
       "      <td>POINT(139.114883 35.8117893)</td>\n",
       "      <td>POINT (139.11488 35.81179)</td>\n",
       "      <td>150</td>\n",
       "      <td>東京都</td>\n",
       "      <td>None</td>\n",
       "      <td>西多摩郡</td>\n",
       "      <td>奥多摩町</td>\n",
       "      <td>13308</td>\n",
       "    </tr>\n",
       "  </tbody>\n",
       "</table>\n",
       "<p>1601 rows × 36 columns</p>\n",
       "</div>"
      ],
      "text/plain": [
       "         拠点ID  区市町村              名称                    所在地        緯度１  \\\n",
       "0      1001.0  千代田区  秋葉原駅東口第１自転車駐車場         東京都千代田区神田平河町4先  35.697952   \n",
       "1      1002.0  千代田区  飯田橋駅東口第１自転車駐車場        東京都千代田区飯田橋3-12先  35.702128   \n",
       "2      1003.0  千代田区  飯田橋駅東口第２自転車駐車場     東京都千代田区飯田橋3-11-30先  35.702592   \n",
       "3      1004.0  千代田区  秋葉原駅東口第２自転車駐車場         東京都千代田区神田和泉町1先  35.699331   \n",
       "4      1005.0  千代田区      水道橋駅自転車駐車場      東京都千代田区神田三崎町2-20先  35.702008   \n",
       "...       ...   ...             ...                    ...        ...   \n",
       "1607  50001.0   瑞穂町    箱根ケ崎駅自転車等駐車場  東京都西多摩郡瑞穂町大字箱根ケ崎249-7  35.771390   \n",
       "1608  57008.0  奥多摩町      奥多摩駅踏切横駐車場      東京都西多摩郡奥多摩町氷川166先  35.808771   \n",
       "1609  57009.0  奥多摩町         古里駅前駐車場      東京都西多摩郡奥多摩町小丹波501  35.816209   \n",
       "1610  57010.0  奥多摩町         川井駅前駐車場      東京都西多摩郡奥多摩町川井278先  35.813949   \n",
       "1611  57011.0  奥多摩町           白丸駐車場       東京都西多摩郡奥多摩町白丸56先  35.811789   \n",
       "\n",
       "             経度１       緯度２        経度２  緯度３  経度３  ...  \\\n",
       "0     139.775410       NaN        NaN  NaN  NaN  ...   \n",
       "1     139.745445       NaN        NaN  NaN  NaN  ...   \n",
       "2     139.745882       NaN        NaN  NaN  NaN  ...   \n",
       "3     139.775510       NaN        NaN  NaN  NaN  ...   \n",
       "4     139.754028       NaN        NaN  NaN  NaN  ...   \n",
       "...          ...       ...        ...  ...  ...  ...   \n",
       "1607  139.347060  35.77154  139.34652  NaN  NaN  ...   \n",
       "1608  139.097826       NaN        NaN  NaN  NaN  ...   \n",
       "1609  139.152115       NaN        NaN  NaN  NaN  ...   \n",
       "1610  139.163822       NaN        NaN  NaN  NaN  ...   \n",
       "1611  139.114883       NaN        NaN  NaN  NaN  ...   \n",
       "\n",
       "                                                     備考     情報提供元  \\\n",
       "0     提供する駐輪場の情報が正確なものとなるように努めておりますが、利用者がこの駐輪場の情報を用い...  東京都・千代田区   \n",
       "1     提供する駐輪場の情報が正確なものとなるように努めておりますが、利用者がこの駐輪場の情報を用い...  東京都・千代田区   \n",
       "2     提供する駐輪場の情報が正確なものとなるように努めておりますが、利用者がこの駐輪場の情報を用い...  東京都・千代田区   \n",
       "3     提供する駐輪場の情報が正確なものとなるように努めておりますが、利用者がこの駐輪場の情報を用い...  東京都・千代田区   \n",
       "4     提供する駐輪場の情報が正確なものとなるように努めておりますが、利用者がこの駐輪場の情報を用い...  東京都・千代田区   \n",
       "...                                                 ...       ...   \n",
       "1607  提供する駐輪場の情報が正確なものとなるように努めておりますが、利用者がこの駐輪場の情報を用い...   東京都・瑞穂町   \n",
       "1608  提供する駐輪場の情報が正確なものとなるように努めておりますが、利用者がこの駐輪場の情報を用い...  東京都・奥多摩町   \n",
       "1609  提供する駐輪場の情報が正確なものとなるように努めておりますが、利用者がこの駐輪場の情報を用い...  東京都・奥多摩町   \n",
       "1610  提供する駐輪場の情報が正確なものとなるように努めておりますが、利用者がこの駐輪場の情報を用い...  東京都・奥多摩町   \n",
       "1611  提供する駐輪場の情報が正確なものとなるように努めておりますが、利用者がこの駐輪場の情報を用い...  東京都・奥多摩町   \n",
       "\n",
       "                       coordinates                    geometry  index_right  \\\n",
       "0       POINT(139.77541 35.697952)  POINT (139.77541 35.69795)            0   \n",
       "1      POINT(139.745445 35.702128)  POINT (139.74544 35.70213)            0   \n",
       "2      POINT(139.745882 35.702592)  POINT (139.74588 35.70259)            0   \n",
       "3       POINT(139.77551 35.699331)  POINT (139.77551 35.69933)            0   \n",
       "4      POINT(139.754028 35.702008)  POINT (139.75403 35.70201)            0   \n",
       "...                            ...                         ...          ...   \n",
       "1607     POINT(139.34706 35.77139)  POINT (139.34706 35.77139)          147   \n",
       "1608  POINT(139.097826 35.8087705)  POINT (139.09783 35.80877)          150   \n",
       "1609  POINT(139.152115 35.8162094)  POINT (139.15212 35.81621)          150   \n",
       "1610  POINT(139.163822 35.8139489)  POINT (139.16382 35.81395)          150   \n",
       "1611  POINT(139.114883 35.8117893)  POINT (139.11488 35.81179)          150   \n",
       "\n",
       "      N03_001 N03_002 N03_003 N03_004 N03_007  \n",
       "0         東京都    None    None    千代田区   13101  \n",
       "1         東京都    None    None    千代田区   13101  \n",
       "2         東京都    None    None    千代田区   13101  \n",
       "3         東京都    None    None    千代田区   13101  \n",
       "4         東京都    None    None    千代田区   13101  \n",
       "...       ...     ...     ...     ...     ...  \n",
       "1607      東京都    None    西多摩郡     瑞穂町   13303  \n",
       "1608      東京都    None    西多摩郡    奥多摩町   13308  \n",
       "1609      東京都    None    西多摩郡    奥多摩町   13308  \n",
       "1610      東京都    None    西多摩郡    奥多摩町   13308  \n",
       "1611      東京都    None    西多摩郡    奥多摩町   13308  \n",
       "\n",
       "[1601 rows x 36 columns]"
      ]
     },
     "execution_count": 64,
     "metadata": {},
     "output_type": "execute_result"
    }
   ],
   "source": [
    "# PART 8 -SPATIAL JOIN - joining on location rather than shared column\n",
    "# try with bicycle parking (bpark_df) and areas (gdf or tokyo23)\n",
    "\n",
    "\n",
    "joined=gpd.sjoin(bpark_df,admin,op='within')\n",
    "\n",
    "joined\n",
    "\n",
    "\n"
   ]
  },
  {
   "cell_type": "code",
   "execution_count": 65,
   "id": "2a41e111",
   "metadata": {},
   "outputs": [
    {
     "name": "stderr",
     "output_type": "stream",
     "text": [
      "C:\\Users\\galiu\\anaconda3\\lib\\site-packages\\IPython\\core\\interactiveshell.py:3473: FutureWarning: The `op` parameter is deprecated and will be removed in a future release. Please use the `predicate` parameter instead.\n",
      "  if (await self.run_code(code, result,  async_=asy)):\n",
      "C:\\Users\\galiu\\AppData\\Local\\Temp\\ipykernel_9616\\304426841.py:3: UserWarning: CRS mismatch between the CRS of left geometries and the CRS of right geometries.\n",
      "Use `to_crs()` to reproject one of the input geometries to match the CRS of the other.\n",
      "\n",
      "Left CRS: EPSG:4326\n",
      "Right CRS: EPSG:6668\n",
      "\n",
      "  joined2=gpd.sjoin(bpark_df[['geometry','名称']],admin[['geometry','N03_004']],op='within')\n"
     ]
    },
    {
     "data": {
      "text/html": [
       "<div>\n",
       "<style scoped>\n",
       "    .dataframe tbody tr th:only-of-type {\n",
       "        vertical-align: middle;\n",
       "    }\n",
       "\n",
       "    .dataframe tbody tr th {\n",
       "        vertical-align: top;\n",
       "    }\n",
       "\n",
       "    .dataframe thead th {\n",
       "        text-align: right;\n",
       "    }\n",
       "</style>\n",
       "<table border=\"1\" class=\"dataframe\">\n",
       "  <thead>\n",
       "    <tr style=\"text-align: right;\">\n",
       "      <th></th>\n",
       "      <th>geometry</th>\n",
       "      <th>名称</th>\n",
       "      <th>index_right</th>\n",
       "      <th>N03_004</th>\n",
       "    </tr>\n",
       "  </thead>\n",
       "  <tbody>\n",
       "    <tr>\n",
       "      <th>0</th>\n",
       "      <td>POINT (139.77541 35.69795)</td>\n",
       "      <td>秋葉原駅東口第１自転車駐車場</td>\n",
       "      <td>0</td>\n",
       "      <td>千代田区</td>\n",
       "    </tr>\n",
       "    <tr>\n",
       "      <th>1</th>\n",
       "      <td>POINT (139.74544 35.70213)</td>\n",
       "      <td>飯田橋駅東口第１自転車駐車場</td>\n",
       "      <td>0</td>\n",
       "      <td>千代田区</td>\n",
       "    </tr>\n",
       "    <tr>\n",
       "      <th>2</th>\n",
       "      <td>POINT (139.74588 35.70259)</td>\n",
       "      <td>飯田橋駅東口第２自転車駐車場</td>\n",
       "      <td>0</td>\n",
       "      <td>千代田区</td>\n",
       "    </tr>\n",
       "    <tr>\n",
       "      <th>3</th>\n",
       "      <td>POINT (139.77551 35.69933)</td>\n",
       "      <td>秋葉原駅東口第２自転車駐車場</td>\n",
       "      <td>0</td>\n",
       "      <td>千代田区</td>\n",
       "    </tr>\n",
       "    <tr>\n",
       "      <th>4</th>\n",
       "      <td>POINT (139.75403 35.70201)</td>\n",
       "      <td>水道橋駅自転車駐車場</td>\n",
       "      <td>0</td>\n",
       "      <td>千代田区</td>\n",
       "    </tr>\n",
       "    <tr>\n",
       "      <th>...</th>\n",
       "      <td>...</td>\n",
       "      <td>...</td>\n",
       "      <td>...</td>\n",
       "      <td>...</td>\n",
       "    </tr>\n",
       "    <tr>\n",
       "      <th>1607</th>\n",
       "      <td>POINT (139.34706 35.77139)</td>\n",
       "      <td>箱根ケ崎駅自転車等駐車場</td>\n",
       "      <td>147</td>\n",
       "      <td>瑞穂町</td>\n",
       "    </tr>\n",
       "    <tr>\n",
       "      <th>1608</th>\n",
       "      <td>POINT (139.09783 35.80877)</td>\n",
       "      <td>奥多摩駅踏切横駐車場</td>\n",
       "      <td>150</td>\n",
       "      <td>奥多摩町</td>\n",
       "    </tr>\n",
       "    <tr>\n",
       "      <th>1609</th>\n",
       "      <td>POINT (139.15212 35.81621)</td>\n",
       "      <td>古里駅前駐車場</td>\n",
       "      <td>150</td>\n",
       "      <td>奥多摩町</td>\n",
       "    </tr>\n",
       "    <tr>\n",
       "      <th>1610</th>\n",
       "      <td>POINT (139.16382 35.81395)</td>\n",
       "      <td>川井駅前駐車場</td>\n",
       "      <td>150</td>\n",
       "      <td>奥多摩町</td>\n",
       "    </tr>\n",
       "    <tr>\n",
       "      <th>1611</th>\n",
       "      <td>POINT (139.11488 35.81179)</td>\n",
       "      <td>白丸駐車場</td>\n",
       "      <td>150</td>\n",
       "      <td>奥多摩町</td>\n",
       "    </tr>\n",
       "  </tbody>\n",
       "</table>\n",
       "<p>1601 rows × 4 columns</p>\n",
       "</div>"
      ],
      "text/plain": [
       "                        geometry              名称  index_right N03_004\n",
       "0     POINT (139.77541 35.69795)  秋葉原駅東口第１自転車駐車場            0    千代田区\n",
       "1     POINT (139.74544 35.70213)  飯田橋駅東口第１自転車駐車場            0    千代田区\n",
       "2     POINT (139.74588 35.70259)  飯田橋駅東口第２自転車駐車場            0    千代田区\n",
       "3     POINT (139.77551 35.69933)  秋葉原駅東口第２自転車駐車場            0    千代田区\n",
       "4     POINT (139.75403 35.70201)      水道橋駅自転車駐車場            0    千代田区\n",
       "...                          ...             ...          ...     ...\n",
       "1607  POINT (139.34706 35.77139)    箱根ケ崎駅自転車等駐車場          147     瑞穂町\n",
       "1608  POINT (139.09783 35.80877)      奥多摩駅踏切横駐車場          150    奥多摩町\n",
       "1609  POINT (139.15212 35.81621)         古里駅前駐車場          150    奥多摩町\n",
       "1610  POINT (139.16382 35.81395)         川井駅前駐車場          150    奥多摩町\n",
       "1611  POINT (139.11488 35.81179)           白丸駐車場          150    奥多摩町\n",
       "\n",
       "[1601 rows x 4 columns]"
      ]
     },
     "execution_count": 65,
     "metadata": {},
     "output_type": "execute_result"
    }
   ],
   "source": [
    "# simplify the dataset \n",
    "\n",
    "joined2=gpd.sjoin(bpark_df[['geometry','名称']],admin[['geometry','N03_004']],op='within')\n",
    "\n",
    "joined2"
   ]
  },
  {
   "cell_type": "code",
   "execution_count": 66,
   "id": "fb7b3862",
   "metadata": {},
   "outputs": [
    {
     "data": {
      "text/plain": [
       "練馬区      87\n",
       "大田区      77\n",
       "日野市      74\n",
       "板橋区      70\n",
       "杉並区      69\n",
       "足立区      63\n",
       "八王子市     59\n",
       "世田谷区     57\n",
       "江東区      55\n",
       "豊島区      52\n",
       "中野区      50\n",
       "渋谷区      48\n",
       "府中市      47\n",
       "葛飾区      44\n",
       "北区       44\n",
       "新宿区      40\n",
       "江戸川区     39\n",
       "調布市      38\n",
       "立川市      38\n",
       "墨田区      37\n",
       "台東区      34\n",
       "東村山市     34\n",
       "千代田区     33\n",
       "東大和市     31\n",
       "文京区      31\n",
       "三鷹市      29\n",
       "町田市      24\n",
       "品川区      24\n",
       "西東京市     23\n",
       "小平市      23\n",
       "中央区      21\n",
       "東久留米市    20\n",
       "目黒区      18\n",
       "昭島市      17\n",
       "荒川区      17\n",
       "狛江市      16\n",
       "国立市      15\n",
       "国分寺市     15\n",
       "羽村市      14\n",
       "あきる野市    13\n",
       "多摩市      13\n",
       "青梅市      11\n",
       "小金井市      9\n",
       "福生市       8\n",
       "稲城市       7\n",
       "清瀬市       5\n",
       "奥多摩町      4\n",
       "武蔵村山市     3\n",
       "瑞穂町       1\n",
       "Name: N03_004, dtype: int64"
      ]
     },
     "execution_count": 66,
     "metadata": {},
     "output_type": "execute_result"
    }
   ],
   "source": [
    "# summarize by ward\n",
    "joined2.N03_004.value_counts()"
   ]
  },
  {
   "cell_type": "code",
   "execution_count": 60,
   "id": "1bd69aee",
   "metadata": {},
   "outputs": [
    {
     "data": {
      "text/plain": [
       "0         False\n",
       "1         False\n",
       "2         False\n",
       "3         False\n",
       "4         False\n",
       "          ...  \n",
       "353448    False\n",
       "353449    False\n",
       "353450    False\n",
       "353451    False\n",
       "353452    False\n",
       "Length: 353453, dtype: bool"
      ]
     },
     "execution_count": 60,
     "metadata": {},
     "output_type": "execute_result"
    }
   ],
   "source": [
    "# BONUS - get the Tokyo bus lines. Use the unary union\n",
    "\n",
    "tokyo_bus = b_routes['geometry'].within(tokyo_outline)\n",
    "tokyo_bus"
   ]
  },
  {
   "cell_type": "code",
   "execution_count": 67,
   "id": "843c589f",
   "metadata": {},
   "outputs": [
    {
     "data": {
      "text/plain": [
       "shapely.geometry.multipolygon.MultiPolygon"
      ]
     },
     "execution_count": 67,
     "metadata": {},
     "output_type": "execute_result"
    }
   ],
   "source": [
    "# check type\n",
    "type(tokyo_outline)"
   ]
  },
  {
   "cell_type": "code",
   "execution_count": 68,
   "id": "e1d272a4",
   "metadata": {},
   "outputs": [
    {
     "data": {
      "text/html": [
       "<div>\n",
       "<style scoped>\n",
       "    .dataframe tbody tr th:only-of-type {\n",
       "        vertical-align: middle;\n",
       "    }\n",
       "\n",
       "    .dataframe tbody tr th {\n",
       "        vertical-align: top;\n",
       "    }\n",
       "\n",
       "    .dataframe thead th {\n",
       "        text-align: right;\n",
       "    }\n",
       "</style>\n",
       "<table border=\"1\" class=\"dataframe\">\n",
       "  <thead>\n",
       "    <tr style=\"text-align: right;\">\n",
       "      <th></th>\n",
       "      <th>N07_001</th>\n",
       "      <th>N07_002</th>\n",
       "      <th>geometry</th>\n",
       "    </tr>\n",
       "  </thead>\n",
       "  <tbody>\n",
       "    <tr>\n",
       "      <th>29752</th>\n",
       "      <td>西武バス（株）</td>\n",
       "      <td>None</td>\n",
       "      <td>LINESTRING (139.63284 35.77591, 139.63258 35.7...</td>\n",
       "    </tr>\n",
       "    <tr>\n",
       "      <th>29753</th>\n",
       "      <td>西武バス（株）</td>\n",
       "      <td>None</td>\n",
       "      <td>LINESTRING (139.62736 35.75373, 139.62839 35.7...</td>\n",
       "    </tr>\n",
       "    <tr>\n",
       "      <th>29754</th>\n",
       "      <td>西武バス（株）</td>\n",
       "      <td>None</td>\n",
       "      <td>LINESTRING (139.62550 35.75371, 139.62663 35.7...</td>\n",
       "    </tr>\n",
       "    <tr>\n",
       "      <th>29755</th>\n",
       "      <td>西武バス（株）</td>\n",
       "      <td>None</td>\n",
       "      <td>LINESTRING (139.63210 35.75570, 139.63224 35.7...</td>\n",
       "    </tr>\n",
       "    <tr>\n",
       "      <th>29756</th>\n",
       "      <td>西武バス（株）</td>\n",
       "      <td>None</td>\n",
       "      <td>LINESTRING (139.63011 35.75375, 139.63065 35.7...</td>\n",
       "    </tr>\n",
       "    <tr>\n",
       "      <th>...</th>\n",
       "      <td>...</td>\n",
       "      <td>...</td>\n",
       "      <td>...</td>\n",
       "    </tr>\n",
       "    <tr>\n",
       "      <th>350929</th>\n",
       "      <td>墨田区</td>\n",
       "      <td>None</td>\n",
       "      <td>LINESTRING (139.80994 35.70959, 139.80947 35.7...</td>\n",
       "    </tr>\n",
       "    <tr>\n",
       "      <th>350930</th>\n",
       "      <td>墨田区</td>\n",
       "      <td>None</td>\n",
       "      <td>LINESTRING (139.80605 35.70873, 139.80681 35.7...</td>\n",
       "    </tr>\n",
       "    <tr>\n",
       "      <th>353418</th>\n",
       "      <td>西武バス（株）</td>\n",
       "      <td>None</td>\n",
       "      <td>LINESTRING (139.69247 35.72253, 139.69269 35.7...</td>\n",
       "    </tr>\n",
       "    <tr>\n",
       "      <th>353419</th>\n",
       "      <td>西武バス（株）</td>\n",
       "      <td>None</td>\n",
       "      <td>LINESTRING (139.58603 35.74854, 139.58629 35.7...</td>\n",
       "    </tr>\n",
       "    <tr>\n",
       "      <th>353420</th>\n",
       "      <td>西武バス（株）</td>\n",
       "      <td>None</td>\n",
       "      <td>LINESTRING (139.58623 35.74578, 139.58627 35.7...</td>\n",
       "    </tr>\n",
       "  </tbody>\n",
       "</table>\n",
       "<p>8379 rows × 3 columns</p>\n",
       "</div>"
      ],
      "text/plain": [
       "        N07_001 N07_002                                           geometry\n",
       "29752   西武バス（株）    None  LINESTRING (139.63284 35.77591, 139.63258 35.7...\n",
       "29753   西武バス（株）    None  LINESTRING (139.62736 35.75373, 139.62839 35.7...\n",
       "29754   西武バス（株）    None  LINESTRING (139.62550 35.75371, 139.62663 35.7...\n",
       "29755   西武バス（株）    None  LINESTRING (139.63210 35.75570, 139.63224 35.7...\n",
       "29756   西武バス（株）    None  LINESTRING (139.63011 35.75375, 139.63065 35.7...\n",
       "...         ...     ...                                                ...\n",
       "350929      墨田区    None  LINESTRING (139.80994 35.70959, 139.80947 35.7...\n",
       "350930      墨田区    None  LINESTRING (139.80605 35.70873, 139.80681 35.7...\n",
       "353418  西武バス（株）    None  LINESTRING (139.69247 35.72253, 139.69269 35.7...\n",
       "353419  西武バス（株）    None  LINESTRING (139.58603 35.74854, 139.58629 35.7...\n",
       "353420  西武バス（株）    None  LINESTRING (139.58623 35.74578, 139.58627 35.7...\n",
       "\n",
       "[8379 rows x 3 columns]"
      ]
     },
     "execution_count": 68,
     "metadata": {},
     "output_type": "execute_result"
    }
   ],
   "source": [
    "# apply the mask\n",
    "tokyo_bus_routes = b_routes[tokyo_bus]\n",
    "tokyo_bus_routes"
   ]
  },
  {
   "cell_type": "code",
   "execution_count": 69,
   "id": "6cc6d5a4",
   "metadata": {},
   "outputs": [],
   "source": [
    "# save to a new file and visialize\n",
    "tokyo_bus_routes.to_file('workshop_data/tokyo_bus_routes.geojson', driver='GeoJSON')"
   ]
  },
  {
   "cell_type": "code",
   "execution_count": null,
   "id": "e46c2818",
   "metadata": {},
   "outputs": [],
   "source": []
  }
 ],
 "metadata": {
  "kernelspec": {
   "display_name": "Python 3 (ipykernel)",
   "language": "python",
   "name": "python3"
  },
  "language_info": {
   "codemirror_mode": {
    "name": "ipython",
    "version": 3
   },
   "file_extension": ".py",
   "mimetype": "text/x-python",
   "name": "python",
   "nbconvert_exporter": "python",
   "pygments_lexer": "ipython3",
   "version": "3.9.12"
  }
 },
 "nbformat": 4,
 "nbformat_minor": 5
}
